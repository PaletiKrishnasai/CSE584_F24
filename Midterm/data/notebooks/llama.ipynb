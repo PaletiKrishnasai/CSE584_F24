{
 "cells": [
  {
   "cell_type": "code",
   "execution_count": 24,
   "metadata": {},
   "outputs": [],
   "source": [
    "import numpy as np\n",
    "import pandas as pd"
   ]
  },
  {
   "cell_type": "code",
   "execution_count": 25,
   "metadata": {},
   "outputs": [],
   "source": [
    "data = pd.read_csv(\"xi.csv\")"
   ]
  },
  {
   "cell_type": "code",
   "execution_count": 26,
   "metadata": {},
   "outputs": [
    {
     "data": {
      "text/html": [
       "<div>\n",
       "<style scoped>\n",
       "    .dataframe tbody tr th:only-of-type {\n",
       "        vertical-align: middle;\n",
       "    }\n",
       "\n",
       "    .dataframe tbody tr th {\n",
       "        vertical-align: top;\n",
       "    }\n",
       "\n",
       "    .dataframe thead th {\n",
       "        text-align: right;\n",
       "    }\n",
       "</style>\n",
       "<table border=\"1\" class=\"dataframe\">\n",
       "  <thead>\n",
       "    <tr style=\"text-align: right;\">\n",
       "      <th></th>\n",
       "      <th>xi</th>\n",
       "    </tr>\n",
       "  </thead>\n",
       "  <tbody>\n",
       "    <tr>\n",
       "      <th>0</th>\n",
       "      <td>Yesterday I went</td>\n",
       "    </tr>\n",
       "    <tr>\n",
       "      <th>1</th>\n",
       "      <td>Today, I plan to</td>\n",
       "    </tr>\n",
       "    <tr>\n",
       "      <th>2</th>\n",
       "      <td>The last time I saw her</td>\n",
       "    </tr>\n",
       "    <tr>\n",
       "      <th>3</th>\n",
       "      <td>I have never been so</td>\n",
       "    </tr>\n",
       "    <tr>\n",
       "      <th>4</th>\n",
       "      <td>When I was a child</td>\n",
       "    </tr>\n",
       "  </tbody>\n",
       "</table>\n",
       "</div>"
      ],
      "text/plain": [
       "                        xi\n",
       "0         Yesterday I went\n",
       "1         Today, I plan to\n",
       "2  The last time I saw her\n",
       "3     I have never been so\n",
       "4       When I was a child"
      ]
     },
     "execution_count": 26,
     "metadata": {},
     "output_type": "execute_result"
    }
   ],
   "source": [
    "data.head()"
   ]
  },
  {
   "cell_type": "code",
   "execution_count": 27,
   "metadata": {},
   "outputs": [
    {
     "data": {
      "text/html": [
       "<div>\n",
       "<style scoped>\n",
       "    .dataframe tbody tr th:only-of-type {\n",
       "        vertical-align: middle;\n",
       "    }\n",
       "\n",
       "    .dataframe tbody tr th {\n",
       "        vertical-align: top;\n",
       "    }\n",
       "\n",
       "    .dataframe thead th {\n",
       "        text-align: right;\n",
       "    }\n",
       "</style>\n",
       "<table border=\"1\" class=\"dataframe\">\n",
       "  <thead>\n",
       "    <tr style=\"text-align: right;\">\n",
       "      <th></th>\n",
       "      <th>xi</th>\n",
       "    </tr>\n",
       "  </thead>\n",
       "  <tbody>\n",
       "    <tr>\n",
       "      <th>count</th>\n",
       "      <td>1021</td>\n",
       "    </tr>\n",
       "    <tr>\n",
       "      <th>unique</th>\n",
       "      <td>1021</td>\n",
       "    </tr>\n",
       "    <tr>\n",
       "      <th>top</th>\n",
       "      <td>I aspire to be remembered as</td>\n",
       "    </tr>\n",
       "    <tr>\n",
       "      <th>freq</th>\n",
       "      <td>1</td>\n",
       "    </tr>\n",
       "  </tbody>\n",
       "</table>\n",
       "</div>"
      ],
      "text/plain": [
       "                                  xi\n",
       "count                           1021\n",
       "unique                          1021\n",
       "top     I aspire to be remembered as\n",
       "freq                               1"
      ]
     },
     "execution_count": 27,
     "metadata": {},
     "output_type": "execute_result"
    }
   ],
   "source": [
    "data.describe()"
   ]
  },
  {
   "cell_type": "code",
   "execution_count": 28,
   "metadata": {},
   "outputs": [],
   "source": [
    "from groq import Groq"
   ]
  },
  {
   "cell_type": "code",
   "execution_count": 29,
   "metadata": {},
   "outputs": [],
   "source": [
    "GROQ_API_KEY=\"\""
   ]
  },
  {
   "cell_type": "code",
   "execution_count": 30,
   "metadata": {},
   "outputs": [],
   "source": [
    "client = Groq(api_key=GROQ_API_KEY)\n",
    "# Model name\n",
    "MODEL = \"llama-3.1-8b-instant\"\n",
    "\n",
    "# Function to generate completion for each xi\n",
    "def generate_completion(xi):\n",
    "    try:\n",
    "        # Call OpenAI API to get the completion\n",
    "        chat_completion = client.chat.completions.create(\n",
    "            model=MODEL,\n",
    "            messages=[\n",
    "                {\"role\": \"system\", \"content\": \"You are a helpful assistant, please complete the following sentence. Only give me the completed part. Do not give me input sentence as well\"},  # System message to set the context\n",
    "                {\"role\": \"user\", \"content\": xi}  # User input (xi)\n",
    "            ]\n",
    "        )\n",
    "        # Extract the generated text (xj)\n",
    "        xj =  chat_completion.choices[0].message.content\n",
    "        xj=xj.strip() # type: ignore\n",
    "        return xj\n",
    "    except Exception as e:\n",
    "        # Handle potential errors\n",
    "        print(f\"Error generating completion for: {xi}\")\n",
    "        print(e)\n",
    "        return None\n",
    "\n"
   ]
  },
  {
   "cell_type": "code",
   "execution_count": 31,
   "metadata": {},
   "outputs": [
    {
     "name": "stdout",
     "output_type": "stream",
     "text": [
      "with family and friends, whether that's going on hikes, trying new restaurants, or just having a cozy night in.\n"
     ]
    }
   ],
   "source": [
    "print(generate_completion(\"I enjoy spending time\"))"
   ]
  },
  {
   "cell_type": "code",
   "execution_count": 32,
   "metadata": {},
   "outputs": [],
   "source": [
    "data['xj'] = data['xi'].apply(generate_completion)"
   ]
  },
  {
   "cell_type": "code",
   "execution_count": 33,
   "metadata": {},
   "outputs": [
    {
     "data": {
      "text/html": [
       "<div>\n",
       "<style scoped>\n",
       "    .dataframe tbody tr th:only-of-type {\n",
       "        vertical-align: middle;\n",
       "    }\n",
       "\n",
       "    .dataframe tbody tr th {\n",
       "        vertical-align: top;\n",
       "    }\n",
       "\n",
       "    .dataframe thead th {\n",
       "        text-align: right;\n",
       "    }\n",
       "</style>\n",
       "<table border=\"1\" class=\"dataframe\">\n",
       "  <thead>\n",
       "    <tr style=\"text-align: right;\">\n",
       "      <th></th>\n",
       "      <th>xi</th>\n",
       "      <th>xj</th>\n",
       "    </tr>\n",
       "  </thead>\n",
       "  <tbody>\n",
       "    <tr>\n",
       "      <th>0</th>\n",
       "      <td>Yesterday I went</td>\n",
       "      <td>to the local park for a walk with my friends.</td>\n",
       "    </tr>\n",
       "    <tr>\n",
       "      <th>1</th>\n",
       "      <td>Today, I plan to</td>\n",
       "      <td>head out to the park with my family for a picn...</td>\n",
       "    </tr>\n",
       "    <tr>\n",
       "      <th>2</th>\n",
       "      <td>The last time I saw her</td>\n",
       "      <td>was almost two years ago, at my grandma's birt...</td>\n",
       "    </tr>\n",
       "    <tr>\n",
       "      <th>3</th>\n",
       "      <td>I have never been so</td>\n",
       "      <td>utterly fascinated by the world's rich history...</td>\n",
       "    </tr>\n",
       "    <tr>\n",
       "      <th>4</th>\n",
       "      <td>When I was a child</td>\n",
       "      <td>my grandparents would often take me on long wa...</td>\n",
       "    </tr>\n",
       "    <tr>\n",
       "      <th>...</th>\n",
       "      <td>...</td>\n",
       "      <td>...</td>\n",
       "    </tr>\n",
       "    <tr>\n",
       "      <th>1016</th>\n",
       "      <td>One of the best memories I have is</td>\n",
       "      <td>from a family vacation to Hawaii when I was 10...</td>\n",
       "    </tr>\n",
       "    <tr>\n",
       "      <th>1017</th>\n",
       "      <td>My definition of success is</td>\n",
       "      <td>having the freedom to pursue my passions, achi...</td>\n",
       "    </tr>\n",
       "    <tr>\n",
       "      <th>1018</th>\n",
       "      <td>One thing I hope to accomplish is</td>\n",
       "      <td>to become a successful photographer by traveli...</td>\n",
       "    </tr>\n",
       "    <tr>\n",
       "      <th>1019</th>\n",
       "      <td>My most treasured possession is</td>\n",
       "      <td>a handmade locket passed down to me by my gran...</td>\n",
       "    </tr>\n",
       "    <tr>\n",
       "      <th>1020</th>\n",
       "      <td>I aspire to be remembered as</td>\n",
       "      <td>a person who made a positive impact on the wor...</td>\n",
       "    </tr>\n",
       "  </tbody>\n",
       "</table>\n",
       "<p>1021 rows × 2 columns</p>\n",
       "</div>"
      ],
      "text/plain": [
       "                                      xi  \\\n",
       "0                       Yesterday I went   \n",
       "1                       Today, I plan to   \n",
       "2                The last time I saw her   \n",
       "3                   I have never been so   \n",
       "4                     When I was a child   \n",
       "...                                  ...   \n",
       "1016  One of the best memories I have is   \n",
       "1017         My definition of success is   \n",
       "1018   One thing I hope to accomplish is   \n",
       "1019     My most treasured possession is   \n",
       "1020        I aspire to be remembered as   \n",
       "\n",
       "                                                     xj  \n",
       "0         to the local park for a walk with my friends.  \n",
       "1     head out to the park with my family for a picn...  \n",
       "2     was almost two years ago, at my grandma's birt...  \n",
       "3     utterly fascinated by the world's rich history...  \n",
       "4     my grandparents would often take me on long wa...  \n",
       "...                                                 ...  \n",
       "1016  from a family vacation to Hawaii when I was 10...  \n",
       "1017  having the freedom to pursue my passions, achi...  \n",
       "1018  to become a successful photographer by traveli...  \n",
       "1019  a handmade locket passed down to me by my gran...  \n",
       "1020  a person who made a positive impact on the wor...  \n",
       "\n",
       "[1021 rows x 2 columns]"
      ]
     },
     "execution_count": 33,
     "metadata": {},
     "output_type": "execute_result"
    }
   ],
   "source": [
    "data"
   ]
  },
  {
   "cell_type": "code",
   "execution_count": 34,
   "metadata": {},
   "outputs": [],
   "source": [
    "data['LLM'] = \"llama3.1-8b\""
   ]
  },
  {
   "cell_type": "code",
   "execution_count": 35,
   "metadata": {},
   "outputs": [],
   "source": [
    "x2 = pd.read_csv(\"xi_2.csv\")"
   ]
  },
  {
   "cell_type": "code",
   "execution_count": 36,
   "metadata": {},
   "outputs": [
    {
     "data": {
      "text/plain": [
       "xi    200\n",
       "dtype: int64"
      ]
     },
     "execution_count": 36,
     "metadata": {},
     "output_type": "execute_result"
    }
   ],
   "source": [
    "x2.nunique()"
   ]
  },
  {
   "cell_type": "code",
   "execution_count": 37,
   "metadata": {},
   "outputs": [],
   "source": [
    "x2['xj'] = x2['xi'].apply(generate_completion)"
   ]
  },
  {
   "cell_type": "code",
   "execution_count": 38,
   "metadata": {},
   "outputs": [],
   "source": [
    "x2['LLM'] = \"llama3.1-8b\""
   ]
  },
  {
   "cell_type": "code",
   "execution_count": 39,
   "metadata": {},
   "outputs": [
    {
     "name": "stdout",
     "output_type": "stream",
     "text": [
      "DataFrame stacked and saved to: stacked_output.csv\n"
     ]
    }
   ],
   "source": [
    "stacked_df = pd.concat([data, x2], ignore_index=True)\n",
    "\n",
    "# Export the combined DataFrame to a CSV file\n",
    "output_csv = 'stacked_output.csv'  # Change this to your desired file path\n",
    "stacked_df.to_csv(output_csv, index=False)\n",
    "\n",
    "print(f\"DataFrame stacked and saved to: {output_csv}\")"
   ]
  },
  {
   "cell_type": "code",
   "execution_count": 40,
   "metadata": {},
   "outputs": [],
   "source": [
    "d2=pd.read_csv(\"stacked_output.csv\")"
   ]
  },
  {
   "cell_type": "code",
   "execution_count": 41,
   "metadata": {},
   "outputs": [
    {
     "data": {
      "text/html": [
       "<div>\n",
       "<style scoped>\n",
       "    .dataframe tbody tr th:only-of-type {\n",
       "        vertical-align: middle;\n",
       "    }\n",
       "\n",
       "    .dataframe tbody tr th {\n",
       "        vertical-align: top;\n",
       "    }\n",
       "\n",
       "    .dataframe thead th {\n",
       "        text-align: right;\n",
       "    }\n",
       "</style>\n",
       "<table border=\"1\" class=\"dataframe\">\n",
       "  <thead>\n",
       "    <tr style=\"text-align: right;\">\n",
       "      <th></th>\n",
       "      <th>xi</th>\n",
       "      <th>xj</th>\n",
       "      <th>LLM</th>\n",
       "    </tr>\n",
       "  </thead>\n",
       "  <tbody>\n",
       "    <tr>\n",
       "      <th>0</th>\n",
       "      <td>Yesterday I went</td>\n",
       "      <td>to the local park for a walk with my friends.</td>\n",
       "      <td>llama3.1-8b</td>\n",
       "    </tr>\n",
       "    <tr>\n",
       "      <th>1</th>\n",
       "      <td>Today, I plan to</td>\n",
       "      <td>head out to the park with my family for a picn...</td>\n",
       "      <td>llama3.1-8b</td>\n",
       "    </tr>\n",
       "    <tr>\n",
       "      <th>2</th>\n",
       "      <td>The last time I saw her</td>\n",
       "      <td>was almost two years ago, at my grandma's birt...</td>\n",
       "      <td>llama3.1-8b</td>\n",
       "    </tr>\n",
       "    <tr>\n",
       "      <th>3</th>\n",
       "      <td>I have never been so</td>\n",
       "      <td>utterly fascinated by the world's rich history...</td>\n",
       "      <td>llama3.1-8b</td>\n",
       "    </tr>\n",
       "    <tr>\n",
       "      <th>4</th>\n",
       "      <td>When I was a child</td>\n",
       "      <td>my grandparents would often take me on long wa...</td>\n",
       "      <td>llama3.1-8b</td>\n",
       "    </tr>\n",
       "  </tbody>\n",
       "</table>\n",
       "</div>"
      ],
      "text/plain": [
       "                        xi                                                 xj  \\\n",
       "0         Yesterday I went      to the local park for a walk with my friends.   \n",
       "1         Today, I plan to  head out to the park with my family for a picn...   \n",
       "2  The last time I saw her  was almost two years ago, at my grandma's birt...   \n",
       "3     I have never been so  utterly fascinated by the world's rich history...   \n",
       "4       When I was a child  my grandparents would often take me on long wa...   \n",
       "\n",
       "           LLM  \n",
       "0  llama3.1-8b  \n",
       "1  llama3.1-8b  \n",
       "2  llama3.1-8b  \n",
       "3  llama3.1-8b  \n",
       "4  llama3.1-8b  "
      ]
     },
     "execution_count": 41,
     "metadata": {},
     "output_type": "execute_result"
    }
   ],
   "source": [
    "d2.head()"
   ]
  },
  {
   "cell_type": "code",
   "execution_count": 42,
   "metadata": {},
   "outputs": [
    {
     "data": {
      "text/plain": [
       "xi     1221\n",
       "xj     1220\n",
       "LLM       1\n",
       "dtype: int64"
      ]
     },
     "execution_count": 42,
     "metadata": {},
     "output_type": "execute_result"
    }
   ],
   "source": [
    "d2.nunique()"
   ]
  },
  {
   "cell_type": "code",
   "execution_count": 43,
   "metadata": {},
   "outputs": [
    {
     "data": {
      "text/html": [
       "<div>\n",
       "<style scoped>\n",
       "    .dataframe tbody tr th:only-of-type {\n",
       "        vertical-align: middle;\n",
       "    }\n",
       "\n",
       "    .dataframe tbody tr th {\n",
       "        vertical-align: top;\n",
       "    }\n",
       "\n",
       "    .dataframe thead th {\n",
       "        text-align: right;\n",
       "    }\n",
       "</style>\n",
       "<table border=\"1\" class=\"dataframe\">\n",
       "  <thead>\n",
       "    <tr style=\"text-align: right;\">\n",
       "      <th></th>\n",
       "      <th>xi</th>\n",
       "      <th>xj</th>\n",
       "      <th>LLM</th>\n",
       "    </tr>\n",
       "  </thead>\n",
       "  <tbody>\n",
       "    <tr>\n",
       "      <th>count</th>\n",
       "      <td>1221</td>\n",
       "      <td>1221</td>\n",
       "      <td>1221</td>\n",
       "    </tr>\n",
       "    <tr>\n",
       "      <th>unique</th>\n",
       "      <td>1221</td>\n",
       "      <td>1220</td>\n",
       "      <td>1</td>\n",
       "    </tr>\n",
       "    <tr>\n",
       "      <th>top</th>\n",
       "      <td>In the kitchen, I chopped</td>\n",
       "      <td>a clear and achievable goal that aligns with m...</td>\n",
       "      <td>llama3.1-8b</td>\n",
       "    </tr>\n",
       "    <tr>\n",
       "      <th>freq</th>\n",
       "      <td>1</td>\n",
       "      <td>2</td>\n",
       "      <td>1221</td>\n",
       "    </tr>\n",
       "  </tbody>\n",
       "</table>\n",
       "</div>"
      ],
      "text/plain": [
       "                               xi  \\\n",
       "count                        1221   \n",
       "unique                       1221   \n",
       "top     In the kitchen, I chopped   \n",
       "freq                            1   \n",
       "\n",
       "                                                       xj          LLM  \n",
       "count                                                1221         1221  \n",
       "unique                                               1220            1  \n",
       "top     a clear and achievable goal that aligns with m...  llama3.1-8b  \n",
       "freq                                                    2         1221  "
      ]
     },
     "execution_count": 43,
     "metadata": {},
     "output_type": "execute_result"
    }
   ],
   "source": [
    "d2.describe()"
   ]
  }
 ],
 "metadata": {
  "kernelspec": {
   "display_name": "Python 3",
   "language": "python",
   "name": "python3"
  },
  "language_info": {
   "codemirror_mode": {
    "name": "ipython",
    "version": 3
   },
   "file_extension": ".py",
   "mimetype": "text/x-python",
   "name": "python",
   "nbconvert_exporter": "python",
   "pygments_lexer": "ipython3",
   "version": "3.12.5"
  }
 },
 "nbformat": 4,
 "nbformat_minor": 2
}
