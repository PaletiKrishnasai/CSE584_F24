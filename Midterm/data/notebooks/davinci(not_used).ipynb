{
 "cells": [
  {
   "cell_type": "code",
   "execution_count": 61,
   "metadata": {},
   "outputs": [],
   "source": [
    "import numpy as np\n",
    "import pandas as pd"
   ]
  },
  {
   "cell_type": "code",
   "execution_count": 62,
   "metadata": {},
   "outputs": [],
   "source": [
    "data = pd.read_csv(\"xi.csv\")"
   ]
  },
  {
   "cell_type": "code",
   "execution_count": 63,
   "metadata": {},
   "outputs": [
    {
     "data": {
      "text/html": [
       "<div>\n",
       "<style scoped>\n",
       "    .dataframe tbody tr th:only-of-type {\n",
       "        vertical-align: middle;\n",
       "    }\n",
       "\n",
       "    .dataframe tbody tr th {\n",
       "        vertical-align: top;\n",
       "    }\n",
       "\n",
       "    .dataframe thead th {\n",
       "        text-align: right;\n",
       "    }\n",
       "</style>\n",
       "<table border=\"1\" class=\"dataframe\">\n",
       "  <thead>\n",
       "    <tr style=\"text-align: right;\">\n",
       "      <th></th>\n",
       "      <th>xi</th>\n",
       "    </tr>\n",
       "  </thead>\n",
       "  <tbody>\n",
       "    <tr>\n",
       "      <th>0</th>\n",
       "      <td>Yesterday I went</td>\n",
       "    </tr>\n",
       "    <tr>\n",
       "      <th>1</th>\n",
       "      <td>Today, I plan to</td>\n",
       "    </tr>\n",
       "    <tr>\n",
       "      <th>2</th>\n",
       "      <td>The last time I saw her</td>\n",
       "    </tr>\n",
       "    <tr>\n",
       "      <th>3</th>\n",
       "      <td>I have never been so</td>\n",
       "    </tr>\n",
       "    <tr>\n",
       "      <th>4</th>\n",
       "      <td>When I was a child</td>\n",
       "    </tr>\n",
       "  </tbody>\n",
       "</table>\n",
       "</div>"
      ],
      "text/plain": [
       "                        xi\n",
       "0         Yesterday I went\n",
       "1         Today, I plan to\n",
       "2  The last time I saw her\n",
       "3     I have never been so\n",
       "4       When I was a child"
      ]
     },
     "execution_count": 63,
     "metadata": {},
     "output_type": "execute_result"
    }
   ],
   "source": [
    "data.head()"
   ]
  },
  {
   "cell_type": "code",
   "execution_count": 64,
   "metadata": {},
   "outputs": [
    {
     "data": {
      "text/html": [
       "<div>\n",
       "<style scoped>\n",
       "    .dataframe tbody tr th:only-of-type {\n",
       "        vertical-align: middle;\n",
       "    }\n",
       "\n",
       "    .dataframe tbody tr th {\n",
       "        vertical-align: top;\n",
       "    }\n",
       "\n",
       "    .dataframe thead th {\n",
       "        text-align: right;\n",
       "    }\n",
       "</style>\n",
       "<table border=\"1\" class=\"dataframe\">\n",
       "  <thead>\n",
       "    <tr style=\"text-align: right;\">\n",
       "      <th></th>\n",
       "      <th>xi</th>\n",
       "    </tr>\n",
       "  </thead>\n",
       "  <tbody>\n",
       "    <tr>\n",
       "      <th>count</th>\n",
       "      <td>1021</td>\n",
       "    </tr>\n",
       "    <tr>\n",
       "      <th>unique</th>\n",
       "      <td>1021</td>\n",
       "    </tr>\n",
       "    <tr>\n",
       "      <th>top</th>\n",
       "      <td>I aspire to be remembered as</td>\n",
       "    </tr>\n",
       "    <tr>\n",
       "      <th>freq</th>\n",
       "      <td>1</td>\n",
       "    </tr>\n",
       "  </tbody>\n",
       "</table>\n",
       "</div>"
      ],
      "text/plain": [
       "                                  xi\n",
       "count                           1021\n",
       "unique                          1021\n",
       "top     I aspire to be remembered as\n",
       "freq                               1"
      ]
     },
     "execution_count": 64,
     "metadata": {},
     "output_type": "execute_result"
    }
   ],
   "source": [
    "data.describe()"
   ]
  },
  {
   "cell_type": "code",
   "execution_count": 65,
   "metadata": {},
   "outputs": [
    {
     "data": {
      "text/plain": [
       "xi    1021\n",
       "dtype: int64"
      ]
     },
     "execution_count": 65,
     "metadata": {},
     "output_type": "execute_result"
    }
   ],
   "source": [
    "data.nunique()"
   ]
  },
  {
   "cell_type": "code",
   "execution_count": 66,
   "metadata": {},
   "outputs": [],
   "source": [
    "import openai\n",
    "from dotenv import load_dotenv"
   ]
  },
  {
   "cell_type": "code",
   "execution_count": 67,
   "metadata": {},
   "outputs": [],
   "source": [
    "import os\n",
    "openai.api_key = os.getenv('OPENAI_API_KEY')\n",
    "\n",
    "openai.api_key = \"\"\n"
   ]
  },
  {
   "cell_type": "code",
   "execution_count": 68,
   "metadata": {},
   "outputs": [],
   "source": [
    "# Model name\n",
    "MODEL = \"davinci-002\"\n",
    "\n",
    "# Function to generate completion for each xi\n",
    "def generate_completion(xi):\n",
    "    try:\n",
    "        # Call OpenAI API to get the completion\n",
    "        completion = openai.completions.create(\n",
    "            model=MODEL,\n",
    "            prompt=xi,  # User input (xi)\n",
    "            max_tokens=20,  # You can set this to control the length of the generated text\n",
    "            temperature=1,  # Control the randomness (creativity) of the output\n",
    "            n=1,  # Number of completions to generate\n",
    "            stop=None  # You can provide stop sequences if needed\n",
    "        )\n",
    "        # Extract the generated text (xj)\n",
    "        xj = completion.choices[0].text.strip()  # Access the completion text\n",
    "        return xj\n",
    "    except Exception as e:\n",
    "        # Handle potential errors\n",
    "        print(f\"Error generating completion for: {xi}\")\n",
    "        print(e)\n",
    "        return None\n",
    "\n"
   ]
  },
  {
   "cell_type": "code",
   "execution_count": 69,
   "metadata": {},
   "outputs": [
    {
     "name": "stdout",
     "output_type": "stream",
     "text": [
      "and experiencing life with friends and the people I care about. My interests include surfing, snow skiing,\n"
     ]
    }
   ],
   "source": [
    "print(generate_completion(\"I enjoy spending time\"))"
   ]
  },
  {
   "cell_type": "code",
   "execution_count": 70,
   "metadata": {},
   "outputs": [],
   "source": [
    "data['xj'] = data['xi'].apply(generate_completion)"
   ]
  },
  {
   "cell_type": "code",
   "execution_count": 71,
   "metadata": {},
   "outputs": [
    {
     "data": {
      "text/html": [
       "<div>\n",
       "<style scoped>\n",
       "    .dataframe tbody tr th:only-of-type {\n",
       "        vertical-align: middle;\n",
       "    }\n",
       "\n",
       "    .dataframe tbody tr th {\n",
       "        vertical-align: top;\n",
       "    }\n",
       "\n",
       "    .dataframe thead th {\n",
       "        text-align: right;\n",
       "    }\n",
       "</style>\n",
       "<table border=\"1\" class=\"dataframe\">\n",
       "  <thead>\n",
       "    <tr style=\"text-align: right;\">\n",
       "      <th></th>\n",
       "      <th>xi</th>\n",
       "      <th>xj</th>\n",
       "    </tr>\n",
       "  </thead>\n",
       "  <tbody>\n",
       "    <tr>\n",
       "      <th>0</th>\n",
       "      <td>Yesterday I went</td>\n",
       "      <td>on a run, a massage therapist really shifted m...</td>\n",
       "    </tr>\n",
       "    <tr>\n",
       "      <th>1</th>\n",
       "      <td>Today, I plan to</td>\n",
       "      <td>spend a well deserved rest day after running a...</td>\n",
       "    </tr>\n",
       "    <tr>\n",
       "      <th>2</th>\n",
       "      <td>The last time I saw her</td>\n",
       "      <td>, she was already a little girl, but already h...</td>\n",
       "    </tr>\n",
       "    <tr>\n",
       "      <th>3</th>\n",
       "      <td>I have never been so</td>\n",
       "      <td>attracted to a positive review before in my li...</td>\n",
       "    </tr>\n",
       "    <tr>\n",
       "      <th>4</th>\n",
       "      <td>When I was a child</td>\n",
       "      <td>, I used to wonder what happened to stories th...</td>\n",
       "    </tr>\n",
       "    <tr>\n",
       "      <th>...</th>\n",
       "      <td>...</td>\n",
       "      <td>...</td>\n",
       "    </tr>\n",
       "    <tr>\n",
       "      <th>1016</th>\n",
       "      <td>One of the best memories I have is</td>\n",
       "      <td>related to the CD Secondary School organised b...</td>\n",
       "    </tr>\n",
       "    <tr>\n",
       "      <th>1017</th>\n",
       "      <td>My definition of success is</td>\n",
       "      <td>simple; to be able to look at all I have built...</td>\n",
       "    </tr>\n",
       "    <tr>\n",
       "      <th>1018</th>\n",
       "      <td>One thing I hope to accomplish is</td>\n",
       "      <td>to reset the summer of 2016 bar in mind. The b...</td>\n",
       "    </tr>\n",
       "    <tr>\n",
       "      <th>1019</th>\n",
       "      <td>My most treasured possession is</td>\n",
       "      <td>my soul, my thoughts, ALL I AM - all 3 of you ...</td>\n",
       "    </tr>\n",
       "    <tr>\n",
       "      <th>1020</th>\n",
       "      <td>I aspire to be remembered as</td>\n",
       "      <td>the best ever!\"\\n\\nAnd he also thanked his fia...</td>\n",
       "    </tr>\n",
       "  </tbody>\n",
       "</table>\n",
       "<p>1021 rows × 2 columns</p>\n",
       "</div>"
      ],
      "text/plain": [
       "                                      xi  \\\n",
       "0                       Yesterday I went   \n",
       "1                       Today, I plan to   \n",
       "2                The last time I saw her   \n",
       "3                   I have never been so   \n",
       "4                     When I was a child   \n",
       "...                                  ...   \n",
       "1016  One of the best memories I have is   \n",
       "1017         My definition of success is   \n",
       "1018   One thing I hope to accomplish is   \n",
       "1019     My most treasured possession is   \n",
       "1020        I aspire to be remembered as   \n",
       "\n",
       "                                                     xj  \n",
       "0     on a run, a massage therapist really shifted m...  \n",
       "1     spend a well deserved rest day after running a...  \n",
       "2     , she was already a little girl, but already h...  \n",
       "3     attracted to a positive review before in my li...  \n",
       "4     , I used to wonder what happened to stories th...  \n",
       "...                                                 ...  \n",
       "1016  related to the CD Secondary School organised b...  \n",
       "1017  simple; to be able to look at all I have built...  \n",
       "1018  to reset the summer of 2016 bar in mind. The b...  \n",
       "1019  my soul, my thoughts, ALL I AM - all 3 of you ...  \n",
       "1020  the best ever!\"\\n\\nAnd he also thanked his fia...  \n",
       "\n",
       "[1021 rows x 2 columns]"
      ]
     },
     "execution_count": 71,
     "metadata": {},
     "output_type": "execute_result"
    }
   ],
   "source": [
    "data"
   ]
  },
  {
   "cell_type": "code",
   "execution_count": 72,
   "metadata": {},
   "outputs": [],
   "source": [
    "data['LLM'] = \"davinci\""
   ]
  },
  {
   "cell_type": "code",
   "execution_count": 74,
   "metadata": {},
   "outputs": [],
   "source": [
    "x4 = pd.read_csv(\"xi_4.csv\")"
   ]
  },
  {
   "cell_type": "code",
   "execution_count": 75,
   "metadata": {},
   "outputs": [
    {
     "data": {
      "text/plain": [
       "xi    200\n",
       "dtype: int64"
      ]
     },
     "execution_count": 75,
     "metadata": {},
     "output_type": "execute_result"
    }
   ],
   "source": [
    "x4.nunique()"
   ]
  },
  {
   "cell_type": "code",
   "execution_count": 76,
   "metadata": {},
   "outputs": [],
   "source": [
    "x4['xj'] = x4['xi'].apply(generate_completion)"
   ]
  },
  {
   "cell_type": "code",
   "execution_count": 77,
   "metadata": {},
   "outputs": [],
   "source": [
    "x4['LLM'] = \"davinci\""
   ]
  },
  {
   "cell_type": "code",
   "execution_count": 78,
   "metadata": {},
   "outputs": [
    {
     "data": {
      "text/html": [
       "<div>\n",
       "<style scoped>\n",
       "    .dataframe tbody tr th:only-of-type {\n",
       "        vertical-align: middle;\n",
       "    }\n",
       "\n",
       "    .dataframe tbody tr th {\n",
       "        vertical-align: top;\n",
       "    }\n",
       "\n",
       "    .dataframe thead th {\n",
       "        text-align: right;\n",
       "    }\n",
       "</style>\n",
       "<table border=\"1\" class=\"dataframe\">\n",
       "  <thead>\n",
       "    <tr style=\"text-align: right;\">\n",
       "      <th></th>\n",
       "      <th>xi</th>\n",
       "      <th>xj</th>\n",
       "      <th>LLM</th>\n",
       "    </tr>\n",
       "  </thead>\n",
       "  <tbody>\n",
       "    <tr>\n",
       "      <th>0</th>\n",
       "      <td>At the office, I filed</td>\n",
       "      <td>through my coffee-stained Rolodex for __ won’t...</td>\n",
       "      <td>davinci</td>\n",
       "    </tr>\n",
       "    <tr>\n",
       "      <th>1</th>\n",
       "      <td>On the bus, we exchanged looks</td>\n",
       "      <td>and giggles. Out of nowhere, I looked the othe...</td>\n",
       "      <td>davinci</td>\n",
       "    </tr>\n",
       "    <tr>\n",
       "      <th>2</th>\n",
       "      <td>During the exam, he hesitated</td>\n",
       "      <td>, “I know you look just like Jones. Why did yo...</td>\n",
       "      <td>davinci</td>\n",
       "    </tr>\n",
       "    <tr>\n",
       "      <th>3</th>\n",
       "      <td>In the park, they picnicked</td>\n",
       "      <td>and swam and soaked up the sun–just like we ar...</td>\n",
       "      <td>davinci</td>\n",
       "    </tr>\n",
       "    <tr>\n",
       "      <th>4</th>\n",
       "      <td>On the highway, she accelerated</td>\n",
       "      <td>up to 90km/h. Her SUV packed with all of her b...</td>\n",
       "      <td>davinci</td>\n",
       "    </tr>\n",
       "  </tbody>\n",
       "</table>\n",
       "</div>"
      ],
      "text/plain": [
       "                                xi  \\\n",
       "0           At the office, I filed   \n",
       "1   On the bus, we exchanged looks   \n",
       "2    During the exam, he hesitated   \n",
       "3      In the park, they picnicked   \n",
       "4  On the highway, she accelerated   \n",
       "\n",
       "                                                  xj      LLM  \n",
       "0  through my coffee-stained Rolodex for __ won’t...  davinci  \n",
       "1  and giggles. Out of nowhere, I looked the othe...  davinci  \n",
       "2  , “I know you look just like Jones. Why did yo...  davinci  \n",
       "3  and swam and soaked up the sun–just like we ar...  davinci  \n",
       "4  up to 90km/h. Her SUV packed with all of her b...  davinci  "
      ]
     },
     "execution_count": 78,
     "metadata": {},
     "output_type": "execute_result"
    }
   ],
   "source": [
    "x4.head()"
   ]
  },
  {
   "cell_type": "code",
   "execution_count": 79,
   "metadata": {},
   "outputs": [
    {
     "name": "stdout",
     "output_type": "stream",
     "text": [
      "DataFrame stacked and saved to: stacked_output_vinci.csv\n"
     ]
    }
   ],
   "source": [
    "stacked_df = pd.concat([data, x4], ignore_index=True)\n",
    "\n",
    "# Export the combined DataFrame to a CSV file\n",
    "output_csv = 'stacked_output_vinci.csv'  # Change this to your desired file path\n",
    "stacked_df.to_csv(output_csv, index=False)\n",
    "\n",
    "print(f\"DataFrame stacked and saved to: {output_csv}\")"
   ]
  },
  {
   "cell_type": "code",
   "execution_count": 81,
   "metadata": {},
   "outputs": [],
   "source": [
    "d4=pd.read_csv(\"stacked_output_vinci.csv\")"
   ]
  },
  {
   "cell_type": "code",
   "execution_count": 82,
   "metadata": {},
   "outputs": [
    {
     "data": {
      "text/html": [
       "<div>\n",
       "<style scoped>\n",
       "    .dataframe tbody tr th:only-of-type {\n",
       "        vertical-align: middle;\n",
       "    }\n",
       "\n",
       "    .dataframe tbody tr th {\n",
       "        vertical-align: top;\n",
       "    }\n",
       "\n",
       "    .dataframe thead th {\n",
       "        text-align: right;\n",
       "    }\n",
       "</style>\n",
       "<table border=\"1\" class=\"dataframe\">\n",
       "  <thead>\n",
       "    <tr style=\"text-align: right;\">\n",
       "      <th></th>\n",
       "      <th>xi</th>\n",
       "      <th>xj</th>\n",
       "      <th>LLM</th>\n",
       "    </tr>\n",
       "  </thead>\n",
       "  <tbody>\n",
       "    <tr>\n",
       "      <th>0</th>\n",
       "      <td>Yesterday I went</td>\n",
       "      <td>on a run, a massage therapist really shifted m...</td>\n",
       "      <td>davinci</td>\n",
       "    </tr>\n",
       "    <tr>\n",
       "      <th>1</th>\n",
       "      <td>Today, I plan to</td>\n",
       "      <td>spend a well deserved rest day after running a...</td>\n",
       "      <td>davinci</td>\n",
       "    </tr>\n",
       "    <tr>\n",
       "      <th>2</th>\n",
       "      <td>The last time I saw her</td>\n",
       "      <td>, she was already a little girl, but already h...</td>\n",
       "      <td>davinci</td>\n",
       "    </tr>\n",
       "    <tr>\n",
       "      <th>3</th>\n",
       "      <td>I have never been so</td>\n",
       "      <td>attracted to a positive review before in my li...</td>\n",
       "      <td>davinci</td>\n",
       "    </tr>\n",
       "    <tr>\n",
       "      <th>4</th>\n",
       "      <td>When I was a child</td>\n",
       "      <td>, I used to wonder what happened to stories th...</td>\n",
       "      <td>davinci</td>\n",
       "    </tr>\n",
       "  </tbody>\n",
       "</table>\n",
       "</div>"
      ],
      "text/plain": [
       "                        xi                                                 xj  \\\n",
       "0         Yesterday I went  on a run, a massage therapist really shifted m...   \n",
       "1         Today, I plan to  spend a well deserved rest day after running a...   \n",
       "2  The last time I saw her  , she was already a little girl, but already h...   \n",
       "3     I have never been so  attracted to a positive review before in my li...   \n",
       "4       When I was a child  , I used to wonder what happened to stories th...   \n",
       "\n",
       "       LLM  \n",
       "0  davinci  \n",
       "1  davinci  \n",
       "2  davinci  \n",
       "3  davinci  \n",
       "4  davinci  "
      ]
     },
     "execution_count": 82,
     "metadata": {},
     "output_type": "execute_result"
    }
   ],
   "source": [
    "d4.head()"
   ]
  },
  {
   "cell_type": "code",
   "execution_count": 83,
   "metadata": {},
   "outputs": [
    {
     "data": {
      "text/plain": [
       "xi     1221\n",
       "xj     1220\n",
       "LLM       1\n",
       "dtype: int64"
      ]
     },
     "execution_count": 83,
     "metadata": {},
     "output_type": "execute_result"
    }
   ],
   "source": [
    "d4.nunique()"
   ]
  },
  {
   "cell_type": "code",
   "execution_count": 84,
   "metadata": {},
   "outputs": [
    {
     "data": {
      "text/html": [
       "<div>\n",
       "<style scoped>\n",
       "    .dataframe tbody tr th:only-of-type {\n",
       "        vertical-align: middle;\n",
       "    }\n",
       "\n",
       "    .dataframe tbody tr th {\n",
       "        vertical-align: top;\n",
       "    }\n",
       "\n",
       "    .dataframe thead th {\n",
       "        text-align: right;\n",
       "    }\n",
       "</style>\n",
       "<table border=\"1\" class=\"dataframe\">\n",
       "  <thead>\n",
       "    <tr style=\"text-align: right;\">\n",
       "      <th></th>\n",
       "      <th>xi</th>\n",
       "      <th>xj</th>\n",
       "      <th>LLM</th>\n",
       "    </tr>\n",
       "  </thead>\n",
       "  <tbody>\n",
       "    <tr>\n",
       "      <th>count</th>\n",
       "      <td>1221</td>\n",
       "      <td>1220</td>\n",
       "      <td>1221</td>\n",
       "    </tr>\n",
       "    <tr>\n",
       "      <th>unique</th>\n",
       "      <td>1221</td>\n",
       "      <td>1220</td>\n",
       "      <td>1</td>\n",
       "    </tr>\n",
       "    <tr>\n",
       "      <th>top</th>\n",
       "      <td>At the pool, we swam laps</td>\n",
       "      <td>and listened to music. I don’t feel a solid de...</td>\n",
       "      <td>davinci</td>\n",
       "    </tr>\n",
       "    <tr>\n",
       "      <th>freq</th>\n",
       "      <td>1</td>\n",
       "      <td>1</td>\n",
       "      <td>1221</td>\n",
       "    </tr>\n",
       "  </tbody>\n",
       "</table>\n",
       "</div>"
      ],
      "text/plain": [
       "                               xi  \\\n",
       "count                        1221   \n",
       "unique                       1221   \n",
       "top     At the pool, we swam laps   \n",
       "freq                            1   \n",
       "\n",
       "                                                       xj      LLM  \n",
       "count                                                1220     1221  \n",
       "unique                                               1220        1  \n",
       "top     and listened to music. I don’t feel a solid de...  davinci  \n",
       "freq                                                    1     1221  "
      ]
     },
     "execution_count": 84,
     "metadata": {},
     "output_type": "execute_result"
    }
   ],
   "source": [
    "d4.describe()"
   ]
  },
  {
   "cell_type": "code",
   "execution_count": 85,
   "metadata": {},
   "outputs": [
    {
     "data": {
      "text/html": [
       "<div>\n",
       "<style scoped>\n",
       "    .dataframe tbody tr th:only-of-type {\n",
       "        vertical-align: middle;\n",
       "    }\n",
       "\n",
       "    .dataframe tbody tr th {\n",
       "        vertical-align: top;\n",
       "    }\n",
       "\n",
       "    .dataframe thead th {\n",
       "        text-align: right;\n",
       "    }\n",
       "</style>\n",
       "<table border=\"1\" class=\"dataframe\">\n",
       "  <thead>\n",
       "    <tr style=\"text-align: right;\">\n",
       "      <th></th>\n",
       "      <th>xi</th>\n",
       "      <th>xj</th>\n",
       "      <th>LLM</th>\n",
       "    </tr>\n",
       "  </thead>\n",
       "  <tbody>\n",
       "    <tr>\n",
       "      <th>0</th>\n",
       "      <td>Yesterday I went</td>\n",
       "      <td>on a run, a massage therapist really shifted m...</td>\n",
       "      <td>davinci</td>\n",
       "    </tr>\n",
       "    <tr>\n",
       "      <th>1</th>\n",
       "      <td>Today, I plan to</td>\n",
       "      <td>spend a well deserved rest day after running a...</td>\n",
       "      <td>davinci</td>\n",
       "    </tr>\n",
       "    <tr>\n",
       "      <th>2</th>\n",
       "      <td>The last time I saw her</td>\n",
       "      <td>, she was already a little girl, but already h...</td>\n",
       "      <td>davinci</td>\n",
       "    </tr>\n",
       "    <tr>\n",
       "      <th>3</th>\n",
       "      <td>I have never been so</td>\n",
       "      <td>attracted to a positive review before in my li...</td>\n",
       "      <td>davinci</td>\n",
       "    </tr>\n",
       "    <tr>\n",
       "      <th>4</th>\n",
       "      <td>When I was a child</td>\n",
       "      <td>, I used to wonder what happened to stories th...</td>\n",
       "      <td>davinci</td>\n",
       "    </tr>\n",
       "    <tr>\n",
       "      <th>...</th>\n",
       "      <td>...</td>\n",
       "      <td>...</td>\n",
       "      <td>...</td>\n",
       "    </tr>\n",
       "    <tr>\n",
       "      <th>1216</th>\n",
       "      <td>On the dock, we watched the waves</td>\n",
       "      <td>and the laughter and the fun that all the word...</td>\n",
       "      <td>davinci</td>\n",
       "    </tr>\n",
       "    <tr>\n",
       "      <th>1217</th>\n",
       "      <td>During the show, they performed stunts</td>\n",
       "      <td>and showcased their skills so that people can ...</td>\n",
       "      <td>davinci</td>\n",
       "    </tr>\n",
       "    <tr>\n",
       "      <th>1218</th>\n",
       "      <td>In the cafe, he wrote in his notebook</td>\n",
       "      <td>: \"Keep calm and try not to land in prison.\"\\n...</td>\n",
       "      <td>davinci</td>\n",
       "    </tr>\n",
       "    <tr>\n",
       "      <th>1219</th>\n",
       "      <td>On the train, I listened to music</td>\n",
       "      <td>, sang along animatedly at the top of my lungs...</td>\n",
       "      <td>davinci</td>\n",
       "    </tr>\n",
       "    <tr>\n",
       "      <th>1220</th>\n",
       "      <td>At the pool, we swam laps</td>\n",
       "      <td>and listened to music. I don’t feel a solid de...</td>\n",
       "      <td>davinci</td>\n",
       "    </tr>\n",
       "  </tbody>\n",
       "</table>\n",
       "<p>1221 rows × 3 columns</p>\n",
       "</div>"
      ],
      "text/plain": [
       "                                          xi  \\\n",
       "0                           Yesterday I went   \n",
       "1                           Today, I plan to   \n",
       "2                    The last time I saw her   \n",
       "3                       I have never been so   \n",
       "4                         When I was a child   \n",
       "...                                      ...   \n",
       "1216       On the dock, we watched the waves   \n",
       "1217  During the show, they performed stunts   \n",
       "1218   In the cafe, he wrote in his notebook   \n",
       "1219       On the train, I listened to music   \n",
       "1220               At the pool, we swam laps   \n",
       "\n",
       "                                                     xj      LLM  \n",
       "0     on a run, a massage therapist really shifted m...  davinci  \n",
       "1     spend a well deserved rest day after running a...  davinci  \n",
       "2     , she was already a little girl, but already h...  davinci  \n",
       "3     attracted to a positive review before in my li...  davinci  \n",
       "4     , I used to wonder what happened to stories th...  davinci  \n",
       "...                                                 ...      ...  \n",
       "1216  and the laughter and the fun that all the word...  davinci  \n",
       "1217  and showcased their skills so that people can ...  davinci  \n",
       "1218  : \"Keep calm and try not to land in prison.\"\\n...  davinci  \n",
       "1219  , sang along animatedly at the top of my lungs...  davinci  \n",
       "1220  and listened to music. I don’t feel a solid de...  davinci  \n",
       "\n",
       "[1221 rows x 3 columns]"
      ]
     },
     "execution_count": 85,
     "metadata": {},
     "output_type": "execute_result"
    }
   ],
   "source": [
    "d4"
   ]
  },
  {
   "cell_type": "code",
   "execution_count": null,
   "metadata": {},
   "outputs": [],
   "source": []
  }
 ],
 "metadata": {
  "kernelspec": {
   "display_name": "Python 3",
   "language": "python",
   "name": "python3"
  },
  "language_info": {
   "codemirror_mode": {
    "name": "ipython",
    "version": 3
   },
   "file_extension": ".py",
   "mimetype": "text/x-python",
   "name": "python",
   "nbconvert_exporter": "python",
   "pygments_lexer": "ipython3",
   "version": "3.12.5"
  }
 },
 "nbformat": 4,
 "nbformat_minor": 2
}
