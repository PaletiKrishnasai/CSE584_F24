{
 "cells": [
  {
   "cell_type": "code",
   "execution_count": 30,
   "metadata": {},
   "outputs": [],
   "source": [
    "import numpy as np\n",
    "import pandas as pd"
   ]
  },
  {
   "cell_type": "code",
   "execution_count": 31,
   "metadata": {},
   "outputs": [],
   "source": [
    "data = pd.read_csv(\"xi.csv\")"
   ]
  },
  {
   "cell_type": "code",
   "execution_count": 32,
   "metadata": {},
   "outputs": [
    {
     "data": {
      "text/html": [
       "<div>\n",
       "<style scoped>\n",
       "    .dataframe tbody tr th:only-of-type {\n",
       "        vertical-align: middle;\n",
       "    }\n",
       "\n",
       "    .dataframe tbody tr th {\n",
       "        vertical-align: top;\n",
       "    }\n",
       "\n",
       "    .dataframe thead th {\n",
       "        text-align: right;\n",
       "    }\n",
       "</style>\n",
       "<table border=\"1\" class=\"dataframe\">\n",
       "  <thead>\n",
       "    <tr style=\"text-align: right;\">\n",
       "      <th></th>\n",
       "      <th>xi</th>\n",
       "    </tr>\n",
       "  </thead>\n",
       "  <tbody>\n",
       "    <tr>\n",
       "      <th>0</th>\n",
       "      <td>Yesterday I went</td>\n",
       "    </tr>\n",
       "    <tr>\n",
       "      <th>1</th>\n",
       "      <td>Today, I plan to</td>\n",
       "    </tr>\n",
       "    <tr>\n",
       "      <th>2</th>\n",
       "      <td>The last time I saw her</td>\n",
       "    </tr>\n",
       "    <tr>\n",
       "      <th>3</th>\n",
       "      <td>I have never been so</td>\n",
       "    </tr>\n",
       "    <tr>\n",
       "      <th>4</th>\n",
       "      <td>When I was a child</td>\n",
       "    </tr>\n",
       "  </tbody>\n",
       "</table>\n",
       "</div>"
      ],
      "text/plain": [
       "                        xi\n",
       "0         Yesterday I went\n",
       "1         Today, I plan to\n",
       "2  The last time I saw her\n",
       "3     I have never been so\n",
       "4       When I was a child"
      ]
     },
     "execution_count": 32,
     "metadata": {},
     "output_type": "execute_result"
    }
   ],
   "source": [
    "data.head()"
   ]
  },
  {
   "cell_type": "code",
   "execution_count": 33,
   "metadata": {},
   "outputs": [
    {
     "data": {
      "text/html": [
       "<div>\n",
       "<style scoped>\n",
       "    .dataframe tbody tr th:only-of-type {\n",
       "        vertical-align: middle;\n",
       "    }\n",
       "\n",
       "    .dataframe tbody tr th {\n",
       "        vertical-align: top;\n",
       "    }\n",
       "\n",
       "    .dataframe thead th {\n",
       "        text-align: right;\n",
       "    }\n",
       "</style>\n",
       "<table border=\"1\" class=\"dataframe\">\n",
       "  <thead>\n",
       "    <tr style=\"text-align: right;\">\n",
       "      <th></th>\n",
       "      <th>xi</th>\n",
       "    </tr>\n",
       "  </thead>\n",
       "  <tbody>\n",
       "    <tr>\n",
       "      <th>count</th>\n",
       "      <td>1021</td>\n",
       "    </tr>\n",
       "    <tr>\n",
       "      <th>unique</th>\n",
       "      <td>1021</td>\n",
       "    </tr>\n",
       "    <tr>\n",
       "      <th>top</th>\n",
       "      <td>I aspire to be remembered as</td>\n",
       "    </tr>\n",
       "    <tr>\n",
       "      <th>freq</th>\n",
       "      <td>1</td>\n",
       "    </tr>\n",
       "  </tbody>\n",
       "</table>\n",
       "</div>"
      ],
      "text/plain": [
       "                                  xi\n",
       "count                           1021\n",
       "unique                          1021\n",
       "top     I aspire to be remembered as\n",
       "freq                               1"
      ]
     },
     "execution_count": 33,
     "metadata": {},
     "output_type": "execute_result"
    }
   ],
   "source": [
    "data.describe()"
   ]
  },
  {
   "cell_type": "code",
   "execution_count": 34,
   "metadata": {},
   "outputs": [
    {
     "name": "stdout",
     "output_type": "stream",
     "text": [
      "<class 'pandas.core.frame.DataFrame'>\n",
      "RangeIndex: 1021 entries, 0 to 1020\n",
      "Data columns (total 1 columns):\n",
      " #   Column  Non-Null Count  Dtype \n",
      "---  ------  --------------  ----- \n",
      " 0   xi      1021 non-null   object\n",
      "dtypes: object(1)\n",
      "memory usage: 8.1+ KB\n"
     ]
    }
   ],
   "source": [
    "data.info()"
   ]
  },
  {
   "cell_type": "code",
   "execution_count": 35,
   "metadata": {},
   "outputs": [
    {
     "data": {
      "text/plain": [
       "xi    1021\n",
       "dtype: int64"
      ]
     },
     "execution_count": 35,
     "metadata": {},
     "output_type": "execute_result"
    }
   ],
   "source": [
    "data.nunique()"
   ]
  },
  {
   "cell_type": "code",
   "execution_count": 36,
   "metadata": {},
   "outputs": [
    {
     "data": {
      "text/html": [
       "<div>\n",
       "<style scoped>\n",
       "    .dataframe tbody tr th:only-of-type {\n",
       "        vertical-align: middle;\n",
       "    }\n",
       "\n",
       "    .dataframe tbody tr th {\n",
       "        vertical-align: top;\n",
       "    }\n",
       "\n",
       "    .dataframe thead th {\n",
       "        text-align: right;\n",
       "    }\n",
       "</style>\n",
       "<table border=\"1\" class=\"dataframe\">\n",
       "  <thead>\n",
       "    <tr style=\"text-align: right;\">\n",
       "      <th></th>\n",
       "      <th>xi</th>\n",
       "    </tr>\n",
       "  </thead>\n",
       "  <tbody>\n",
       "    <tr>\n",
       "      <th>0</th>\n",
       "      <td>Yesterday I went</td>\n",
       "    </tr>\n",
       "    <tr>\n",
       "      <th>1</th>\n",
       "      <td>Today, I plan to</td>\n",
       "    </tr>\n",
       "    <tr>\n",
       "      <th>2</th>\n",
       "      <td>The last time I saw her</td>\n",
       "    </tr>\n",
       "    <tr>\n",
       "      <th>3</th>\n",
       "      <td>I have never been so</td>\n",
       "    </tr>\n",
       "    <tr>\n",
       "      <th>4</th>\n",
       "      <td>When I was a child</td>\n",
       "    </tr>\n",
       "    <tr>\n",
       "      <th>...</th>\n",
       "      <td>...</td>\n",
       "    </tr>\n",
       "    <tr>\n",
       "      <th>1016</th>\n",
       "      <td>One of the best memories I have is</td>\n",
       "    </tr>\n",
       "    <tr>\n",
       "      <th>1017</th>\n",
       "      <td>My definition of success is</td>\n",
       "    </tr>\n",
       "    <tr>\n",
       "      <th>1018</th>\n",
       "      <td>One thing I hope to accomplish is</td>\n",
       "    </tr>\n",
       "    <tr>\n",
       "      <th>1019</th>\n",
       "      <td>My most treasured possession is</td>\n",
       "    </tr>\n",
       "    <tr>\n",
       "      <th>1020</th>\n",
       "      <td>I aspire to be remembered as</td>\n",
       "    </tr>\n",
       "  </tbody>\n",
       "</table>\n",
       "<p>1021 rows × 1 columns</p>\n",
       "</div>"
      ],
      "text/plain": [
       "                                      xi\n",
       "0                       Yesterday I went\n",
       "1                       Today, I plan to\n",
       "2                The last time I saw her\n",
       "3                   I have never been so\n",
       "4                     When I was a child\n",
       "...                                  ...\n",
       "1016  One of the best memories I have is\n",
       "1017         My definition of success is\n",
       "1018   One thing I hope to accomplish is\n",
       "1019     My most treasured possession is\n",
       "1020        I aspire to be remembered as\n",
       "\n",
       "[1021 rows x 1 columns]"
      ]
     },
     "execution_count": 36,
     "metadata": {},
     "output_type": "execute_result"
    }
   ],
   "source": [
    "data"
   ]
  },
  {
   "cell_type": "code",
   "execution_count": 37,
   "metadata": {},
   "outputs": [],
   "source": []
  },
  {
   "cell_type": "code",
   "execution_count": 38,
   "metadata": {},
   "outputs": [],
   "source": [
    "import openai\n",
    "from dotenv import load_dotenv"
   ]
  },
  {
   "cell_type": "code",
   "execution_count": 39,
   "metadata": {},
   "outputs": [],
   "source": [
    "import os\n",
    "openai.api_key = os.getenv('OPENAI_API_KEY')\n",
    "\n",
    "openai.api_key = \"\"\n",
    "\n"
   ]
  },
  {
   "cell_type": "code",
   "execution_count": 40,
   "metadata": {},
   "outputs": [],
   "source": [
    "# Model name\n",
    "MODEL = \"gpt-4o-mini\"\n",
    "\n",
    "# Function to generate completion for each xi\n",
    "def generate_completion(xi):\n",
    "    try:\n",
    "        # Call OpenAI API to get the completion\n",
    "        completion = openai.chat.completions.create(\n",
    "            model=MODEL,\n",
    "            messages=[\n",
    "                {\"role\": \"system\", \"content\": \"You are a helpful assistant, please complete the following sentence. Only give me the completed part. Do not give me input sentence as well\"},  # System message to set the context\n",
    "                {\"role\": \"user\", \"content\": xi}  # User input (xi)\n",
    "            ]\n",
    "        )\n",
    "        # Extract the generated text (xj)\n",
    "        xj =  completion.choices[0].message.content\n",
    "        xj=xj.strip()\n",
    "        return xj\n",
    "    except Exception as e:\n",
    "        # Handle potential errors\n",
    "        print(f\"Error generating completion for: {xi}\")\n",
    "        print(e)\n",
    "        return None\n",
    "\n"
   ]
  },
  {
   "cell_type": "code",
   "execution_count": 41,
   "metadata": {},
   "outputs": [
    {
     "name": "stdout",
     "output_type": "stream",
     "text": [
      "with my friends and family, exploring new places, and trying out different cuisines.\n"
     ]
    }
   ],
   "source": [
    "print(generate_completion(\"I enjoy spending time\"))"
   ]
  },
  {
   "cell_type": "code",
   "execution_count": 42,
   "metadata": {},
   "outputs": [],
   "source": [
    "data['xj'] = data['xi'].apply(generate_completion)"
   ]
  },
  {
   "cell_type": "code",
   "execution_count": 43,
   "metadata": {},
   "outputs": [
    {
     "data": {
      "text/html": [
       "<div>\n",
       "<style scoped>\n",
       "    .dataframe tbody tr th:only-of-type {\n",
       "        vertical-align: middle;\n",
       "    }\n",
       "\n",
       "    .dataframe tbody tr th {\n",
       "        vertical-align: top;\n",
       "    }\n",
       "\n",
       "    .dataframe thead th {\n",
       "        text-align: right;\n",
       "    }\n",
       "</style>\n",
       "<table border=\"1\" class=\"dataframe\">\n",
       "  <thead>\n",
       "    <tr style=\"text-align: right;\">\n",
       "      <th></th>\n",
       "      <th>xi</th>\n",
       "      <th>xj</th>\n",
       "    </tr>\n",
       "  </thead>\n",
       "  <tbody>\n",
       "    <tr>\n",
       "      <th>0</th>\n",
       "      <td>Yesterday I went</td>\n",
       "      <td>to the park to enjoy the beautiful weather.</td>\n",
       "    </tr>\n",
       "    <tr>\n",
       "      <th>1</th>\n",
       "      <td>Today, I plan to</td>\n",
       "      <td>organize my workspace and catch up on some rea...</td>\n",
       "    </tr>\n",
       "    <tr>\n",
       "      <th>2</th>\n",
       "      <td>The last time I saw her</td>\n",
       "      <td>she was walking down the street, smiling and w...</td>\n",
       "    </tr>\n",
       "    <tr>\n",
       "      <th>3</th>\n",
       "      <td>I have never been so</td>\n",
       "      <td>excited about a new opportunity.</td>\n",
       "    </tr>\n",
       "    <tr>\n",
       "      <th>4</th>\n",
       "      <td>When I was a child</td>\n",
       "      <td>I spent countless hours exploring the woods be...</td>\n",
       "    </tr>\n",
       "    <tr>\n",
       "      <th>...</th>\n",
       "      <td>...</td>\n",
       "      <td>...</td>\n",
       "    </tr>\n",
       "    <tr>\n",
       "      <th>1016</th>\n",
       "      <td>One of the best memories I have is</td>\n",
       "      <td>the day I graduated from college, surrounded b...</td>\n",
       "    </tr>\n",
       "    <tr>\n",
       "      <th>1017</th>\n",
       "      <td>My definition of success is</td>\n",
       "      <td>achieving personal goals while maintaining bal...</td>\n",
       "    </tr>\n",
       "    <tr>\n",
       "      <th>1018</th>\n",
       "      <td>One thing I hope to accomplish is</td>\n",
       "      <td>to make a positive impact in my community by p...</td>\n",
       "    </tr>\n",
       "    <tr>\n",
       "      <th>1019</th>\n",
       "      <td>My most treasured possession is</td>\n",
       "      <td>a photograph of my grandmother, taken during h...</td>\n",
       "    </tr>\n",
       "    <tr>\n",
       "      <th>1020</th>\n",
       "      <td>I aspire to be remembered as</td>\n",
       "      <td>someone who brought positivity and inspiration...</td>\n",
       "    </tr>\n",
       "  </tbody>\n",
       "</table>\n",
       "<p>1021 rows × 2 columns</p>\n",
       "</div>"
      ],
      "text/plain": [
       "                                      xi  \\\n",
       "0                       Yesterday I went   \n",
       "1                       Today, I plan to   \n",
       "2                The last time I saw her   \n",
       "3                   I have never been so   \n",
       "4                     When I was a child   \n",
       "...                                  ...   \n",
       "1016  One of the best memories I have is   \n",
       "1017         My definition of success is   \n",
       "1018   One thing I hope to accomplish is   \n",
       "1019     My most treasured possession is   \n",
       "1020        I aspire to be remembered as   \n",
       "\n",
       "                                                     xj  \n",
       "0           to the park to enjoy the beautiful weather.  \n",
       "1     organize my workspace and catch up on some rea...  \n",
       "2     she was walking down the street, smiling and w...  \n",
       "3                      excited about a new opportunity.  \n",
       "4     I spent countless hours exploring the woods be...  \n",
       "...                                                 ...  \n",
       "1016  the day I graduated from college, surrounded b...  \n",
       "1017  achieving personal goals while maintaining bal...  \n",
       "1018  to make a positive impact in my community by p...  \n",
       "1019  a photograph of my grandmother, taken during h...  \n",
       "1020  someone who brought positivity and inspiration...  \n",
       "\n",
       "[1021 rows x 2 columns]"
      ]
     },
     "execution_count": 43,
     "metadata": {},
     "output_type": "execute_result"
    }
   ],
   "source": [
    "data"
   ]
  },
  {
   "cell_type": "code",
   "execution_count": 44,
   "metadata": {},
   "outputs": [
    {
     "data": {
      "text/html": [
       "<div>\n",
       "<style scoped>\n",
       "    .dataframe tbody tr th:only-of-type {\n",
       "        vertical-align: middle;\n",
       "    }\n",
       "\n",
       "    .dataframe tbody tr th {\n",
       "        vertical-align: top;\n",
       "    }\n",
       "\n",
       "    .dataframe thead th {\n",
       "        text-align: right;\n",
       "    }\n",
       "</style>\n",
       "<table border=\"1\" class=\"dataframe\">\n",
       "  <thead>\n",
       "    <tr style=\"text-align: right;\">\n",
       "      <th></th>\n",
       "      <th>xi</th>\n",
       "      <th>xj</th>\n",
       "    </tr>\n",
       "  </thead>\n",
       "  <tbody>\n",
       "    <tr>\n",
       "      <th>0</th>\n",
       "      <td>Yesterday I went</td>\n",
       "      <td>to the park to enjoy the beautiful weather.</td>\n",
       "    </tr>\n",
       "    <tr>\n",
       "      <th>1</th>\n",
       "      <td>Today, I plan to</td>\n",
       "      <td>organize my workspace and catch up on some rea...</td>\n",
       "    </tr>\n",
       "    <tr>\n",
       "      <th>2</th>\n",
       "      <td>The last time I saw her</td>\n",
       "      <td>she was walking down the street, smiling and w...</td>\n",
       "    </tr>\n",
       "    <tr>\n",
       "      <th>3</th>\n",
       "      <td>I have never been so</td>\n",
       "      <td>excited about a new opportunity.</td>\n",
       "    </tr>\n",
       "    <tr>\n",
       "      <th>4</th>\n",
       "      <td>When I was a child</td>\n",
       "      <td>I spent countless hours exploring the woods be...</td>\n",
       "    </tr>\n",
       "  </tbody>\n",
       "</table>\n",
       "</div>"
      ],
      "text/plain": [
       "                        xi                                                 xj\n",
       "0         Yesterday I went        to the park to enjoy the beautiful weather.\n",
       "1         Today, I plan to  organize my workspace and catch up on some rea...\n",
       "2  The last time I saw her  she was walking down the street, smiling and w...\n",
       "3     I have never been so                   excited about a new opportunity.\n",
       "4       When I was a child  I spent countless hours exploring the woods be..."
      ]
     },
     "execution_count": 44,
     "metadata": {},
     "output_type": "execute_result"
    }
   ],
   "source": [
    "data.head()"
   ]
  },
  {
   "cell_type": "code",
   "execution_count": 45,
   "metadata": {},
   "outputs": [],
   "source": [
    "data['LLM'] = \"GPT4o-mini\""
   ]
  },
  {
   "cell_type": "code",
   "execution_count": 46,
   "metadata": {},
   "outputs": [
    {
     "data": {
      "text/html": [
       "<div>\n",
       "<style scoped>\n",
       "    .dataframe tbody tr th:only-of-type {\n",
       "        vertical-align: middle;\n",
       "    }\n",
       "\n",
       "    .dataframe tbody tr th {\n",
       "        vertical-align: top;\n",
       "    }\n",
       "\n",
       "    .dataframe thead th {\n",
       "        text-align: right;\n",
       "    }\n",
       "</style>\n",
       "<table border=\"1\" class=\"dataframe\">\n",
       "  <thead>\n",
       "    <tr style=\"text-align: right;\">\n",
       "      <th></th>\n",
       "      <th>xi</th>\n",
       "      <th>xj</th>\n",
       "      <th>LLM</th>\n",
       "    </tr>\n",
       "  </thead>\n",
       "  <tbody>\n",
       "    <tr>\n",
       "      <th>0</th>\n",
       "      <td>Yesterday I went</td>\n",
       "      <td>to the park to enjoy the beautiful weather.</td>\n",
       "      <td>GPT4o-mini</td>\n",
       "    </tr>\n",
       "    <tr>\n",
       "      <th>1</th>\n",
       "      <td>Today, I plan to</td>\n",
       "      <td>organize my workspace and catch up on some rea...</td>\n",
       "      <td>GPT4o-mini</td>\n",
       "    </tr>\n",
       "    <tr>\n",
       "      <th>2</th>\n",
       "      <td>The last time I saw her</td>\n",
       "      <td>she was walking down the street, smiling and w...</td>\n",
       "      <td>GPT4o-mini</td>\n",
       "    </tr>\n",
       "    <tr>\n",
       "      <th>3</th>\n",
       "      <td>I have never been so</td>\n",
       "      <td>excited about a new opportunity.</td>\n",
       "      <td>GPT4o-mini</td>\n",
       "    </tr>\n",
       "    <tr>\n",
       "      <th>4</th>\n",
       "      <td>When I was a child</td>\n",
       "      <td>I spent countless hours exploring the woods be...</td>\n",
       "      <td>GPT4o-mini</td>\n",
       "    </tr>\n",
       "  </tbody>\n",
       "</table>\n",
       "</div>"
      ],
      "text/plain": [
       "                        xi                                                 xj  \\\n",
       "0         Yesterday I went        to the park to enjoy the beautiful weather.   \n",
       "1         Today, I plan to  organize my workspace and catch up on some rea...   \n",
       "2  The last time I saw her  she was walking down the street, smiling and w...   \n",
       "3     I have never been so                   excited about a new opportunity.   \n",
       "4       When I was a child  I spent countless hours exploring the woods be...   \n",
       "\n",
       "          LLM  \n",
       "0  GPT4o-mini  \n",
       "1  GPT4o-mini  \n",
       "2  GPT4o-mini  \n",
       "3  GPT4o-mini  \n",
       "4  GPT4o-mini  "
      ]
     },
     "execution_count": 46,
     "metadata": {},
     "output_type": "execute_result"
    }
   ],
   "source": [
    "data.head()"
   ]
  },
  {
   "cell_type": "code",
   "execution_count": 47,
   "metadata": {},
   "outputs": [],
   "source": [
    "x1 = pd.read_csv(\"xi_1.csv\")"
   ]
  },
  {
   "cell_type": "code",
   "execution_count": 48,
   "metadata": {},
   "outputs": [
    {
     "data": {
      "text/html": [
       "<div>\n",
       "<style scoped>\n",
       "    .dataframe tbody tr th:only-of-type {\n",
       "        vertical-align: middle;\n",
       "    }\n",
       "\n",
       "    .dataframe tbody tr th {\n",
       "        vertical-align: top;\n",
       "    }\n",
       "\n",
       "    .dataframe thead th {\n",
       "        text-align: right;\n",
       "    }\n",
       "</style>\n",
       "<table border=\"1\" class=\"dataframe\">\n",
       "  <thead>\n",
       "    <tr style=\"text-align: right;\">\n",
       "      <th></th>\n",
       "      <th>xi</th>\n",
       "    </tr>\n",
       "  </thead>\n",
       "  <tbody>\n",
       "    <tr>\n",
       "      <th>0</th>\n",
       "      <td>In the forest, we saw wildlife</td>\n",
       "    </tr>\n",
       "    <tr>\n",
       "      <th>1</th>\n",
       "      <td>On the bus, he spoke quietly</td>\n",
       "    </tr>\n",
       "    <tr>\n",
       "      <th>2</th>\n",
       "      <td>During the lesson, she corrected the mistake</td>\n",
       "    </tr>\n",
       "    <tr>\n",
       "      <th>3</th>\n",
       "      <td>At the event, they handed out flyers</td>\n",
       "    </tr>\n",
       "    <tr>\n",
       "      <th>4</th>\n",
       "      <td>On the mountain, we built a campfire</td>\n",
       "    </tr>\n",
       "  </tbody>\n",
       "</table>\n",
       "</div>"
      ],
      "text/plain": [
       "                                             xi\n",
       "0                In the forest, we saw wildlife\n",
       "1                  On the bus, he spoke quietly\n",
       "2  During the lesson, she corrected the mistake\n",
       "3          At the event, they handed out flyers\n",
       "4          On the mountain, we built a campfire"
      ]
     },
     "execution_count": 48,
     "metadata": {},
     "output_type": "execute_result"
    }
   ],
   "source": [
    "x1.head()"
   ]
  },
  {
   "cell_type": "code",
   "execution_count": 49,
   "metadata": {},
   "outputs": [
    {
     "data": {
      "text/plain": [
       "xi    200\n",
       "dtype: int64"
      ]
     },
     "execution_count": 49,
     "metadata": {},
     "output_type": "execute_result"
    }
   ],
   "source": [
    "x1.nunique()"
   ]
  },
  {
   "cell_type": "code",
   "execution_count": 50,
   "metadata": {},
   "outputs": [],
   "source": [
    "x1['xj'] = x1['xi'].apply(generate_completion)"
   ]
  },
  {
   "cell_type": "code",
   "execution_count": 51,
   "metadata": {},
   "outputs": [
    {
     "data": {
      "text/html": [
       "<div>\n",
       "<style scoped>\n",
       "    .dataframe tbody tr th:only-of-type {\n",
       "        vertical-align: middle;\n",
       "    }\n",
       "\n",
       "    .dataframe tbody tr th {\n",
       "        vertical-align: top;\n",
       "    }\n",
       "\n",
       "    .dataframe thead th {\n",
       "        text-align: right;\n",
       "    }\n",
       "</style>\n",
       "<table border=\"1\" class=\"dataframe\">\n",
       "  <thead>\n",
       "    <tr style=\"text-align: right;\">\n",
       "      <th></th>\n",
       "      <th>xi</th>\n",
       "      <th>xj</th>\n",
       "    </tr>\n",
       "  </thead>\n",
       "  <tbody>\n",
       "    <tr>\n",
       "      <th>0</th>\n",
       "      <td>In the forest, we saw wildlife</td>\n",
       "      <td>such as deer, birds, and rabbits playing in th...</td>\n",
       "    </tr>\n",
       "    <tr>\n",
       "      <th>1</th>\n",
       "      <td>On the bus, he spoke quietly</td>\n",
       "      <td>to the person sitting next to him, sharing tho...</td>\n",
       "    </tr>\n",
       "    <tr>\n",
       "      <th>2</th>\n",
       "      <td>During the lesson, she corrected the mistake</td>\n",
       "      <td>and provided an explanation to ensure the stud...</td>\n",
       "    </tr>\n",
       "    <tr>\n",
       "      <th>3</th>\n",
       "      <td>At the event, they handed out flyers</td>\n",
       "      <td>that provided information about upcoming works...</td>\n",
       "    </tr>\n",
       "    <tr>\n",
       "      <th>4</th>\n",
       "      <td>On the mountain, we built a campfire</td>\n",
       "      <td>and sat around it, sharing stories and enjoyin...</td>\n",
       "    </tr>\n",
       "  </tbody>\n",
       "</table>\n",
       "</div>"
      ],
      "text/plain": [
       "                                             xi  \\\n",
       "0                In the forest, we saw wildlife   \n",
       "1                  On the bus, he spoke quietly   \n",
       "2  During the lesson, she corrected the mistake   \n",
       "3          At the event, they handed out flyers   \n",
       "4          On the mountain, we built a campfire   \n",
       "\n",
       "                                                  xj  \n",
       "0  such as deer, birds, and rabbits playing in th...  \n",
       "1  to the person sitting next to him, sharing tho...  \n",
       "2  and provided an explanation to ensure the stud...  \n",
       "3  that provided information about upcoming works...  \n",
       "4  and sat around it, sharing stories and enjoyin...  "
      ]
     },
     "execution_count": 51,
     "metadata": {},
     "output_type": "execute_result"
    }
   ],
   "source": [
    "x1.head()"
   ]
  },
  {
   "cell_type": "code",
   "execution_count": 52,
   "metadata": {},
   "outputs": [],
   "source": [
    "x1['LLM'] = \"GPT4o-mini\""
   ]
  },
  {
   "cell_type": "code",
   "execution_count": 53,
   "metadata": {},
   "outputs": [
    {
     "data": {
      "text/html": [
       "<div>\n",
       "<style scoped>\n",
       "    .dataframe tbody tr th:only-of-type {\n",
       "        vertical-align: middle;\n",
       "    }\n",
       "\n",
       "    .dataframe tbody tr th {\n",
       "        vertical-align: top;\n",
       "    }\n",
       "\n",
       "    .dataframe thead th {\n",
       "        text-align: right;\n",
       "    }\n",
       "</style>\n",
       "<table border=\"1\" class=\"dataframe\">\n",
       "  <thead>\n",
       "    <tr style=\"text-align: right;\">\n",
       "      <th></th>\n",
       "      <th>xi</th>\n",
       "      <th>xj</th>\n",
       "      <th>LLM</th>\n",
       "    </tr>\n",
       "  </thead>\n",
       "  <tbody>\n",
       "    <tr>\n",
       "      <th>0</th>\n",
       "      <td>In the forest, we saw wildlife</td>\n",
       "      <td>such as deer, birds, and rabbits playing in th...</td>\n",
       "      <td>GPT4o-mini</td>\n",
       "    </tr>\n",
       "    <tr>\n",
       "      <th>1</th>\n",
       "      <td>On the bus, he spoke quietly</td>\n",
       "      <td>to the person sitting next to him, sharing tho...</td>\n",
       "      <td>GPT4o-mini</td>\n",
       "    </tr>\n",
       "    <tr>\n",
       "      <th>2</th>\n",
       "      <td>During the lesson, she corrected the mistake</td>\n",
       "      <td>and provided an explanation to ensure the stud...</td>\n",
       "      <td>GPT4o-mini</td>\n",
       "    </tr>\n",
       "    <tr>\n",
       "      <th>3</th>\n",
       "      <td>At the event, they handed out flyers</td>\n",
       "      <td>that provided information about upcoming works...</td>\n",
       "      <td>GPT4o-mini</td>\n",
       "    </tr>\n",
       "    <tr>\n",
       "      <th>4</th>\n",
       "      <td>On the mountain, we built a campfire</td>\n",
       "      <td>and sat around it, sharing stories and enjoyin...</td>\n",
       "      <td>GPT4o-mini</td>\n",
       "    </tr>\n",
       "    <tr>\n",
       "      <th>...</th>\n",
       "      <td>...</td>\n",
       "      <td>...</td>\n",
       "      <td>...</td>\n",
       "    </tr>\n",
       "    <tr>\n",
       "      <th>195</th>\n",
       "      <td>On the patio, I sipped my coffee</td>\n",
       "      <td>while enjoying the warm morning sun and watchi...</td>\n",
       "      <td>GPT4o-mini</td>\n",
       "    </tr>\n",
       "    <tr>\n",
       "      <th>196</th>\n",
       "      <td>In the woods, we saw a deer</td>\n",
       "      <td>grazing peacefully near a sparkling stream.</td>\n",
       "      <td>GPT4o-mini</td>\n",
       "    </tr>\n",
       "    <tr>\n",
       "      <th>197</th>\n",
       "      <td>During the run, I felt energized</td>\n",
       "      <td>and determined to push through the last few mi...</td>\n",
       "      <td>GPT4o-mini</td>\n",
       "    </tr>\n",
       "    <tr>\n",
       "      <th>198</th>\n",
       "      <td>At the event, they handed out awards</td>\n",
       "      <td>to recognize outstanding achievements in vario...</td>\n",
       "      <td>GPT4o-mini</td>\n",
       "    </tr>\n",
       "    <tr>\n",
       "      <th>199</th>\n",
       "      <td>On the boat, we sailed into the sunset</td>\n",
       "      <td>, the sky ablaze with hues of orange and pink,...</td>\n",
       "      <td>GPT4o-mini</td>\n",
       "    </tr>\n",
       "  </tbody>\n",
       "</table>\n",
       "<p>200 rows × 3 columns</p>\n",
       "</div>"
      ],
      "text/plain": [
       "                                               xi  \\\n",
       "0                  In the forest, we saw wildlife   \n",
       "1                    On the bus, he spoke quietly   \n",
       "2    During the lesson, she corrected the mistake   \n",
       "3            At the event, they handed out flyers   \n",
       "4            On the mountain, we built a campfire   \n",
       "..                                            ...   \n",
       "195              On the patio, I sipped my coffee   \n",
       "196                   In the woods, we saw a deer   \n",
       "197              During the run, I felt energized   \n",
       "198          At the event, they handed out awards   \n",
       "199        On the boat, we sailed into the sunset   \n",
       "\n",
       "                                                    xj         LLM  \n",
       "0    such as deer, birds, and rabbits playing in th...  GPT4o-mini  \n",
       "1    to the person sitting next to him, sharing tho...  GPT4o-mini  \n",
       "2    and provided an explanation to ensure the stud...  GPT4o-mini  \n",
       "3    that provided information about upcoming works...  GPT4o-mini  \n",
       "4    and sat around it, sharing stories and enjoyin...  GPT4o-mini  \n",
       "..                                                 ...         ...  \n",
       "195  while enjoying the warm morning sun and watchi...  GPT4o-mini  \n",
       "196        grazing peacefully near a sparkling stream.  GPT4o-mini  \n",
       "197  and determined to push through the last few mi...  GPT4o-mini  \n",
       "198  to recognize outstanding achievements in vario...  GPT4o-mini  \n",
       "199  , the sky ablaze with hues of orange and pink,...  GPT4o-mini  \n",
       "\n",
       "[200 rows x 3 columns]"
      ]
     },
     "execution_count": 53,
     "metadata": {},
     "output_type": "execute_result"
    }
   ],
   "source": [
    "x1"
   ]
  },
  {
   "cell_type": "code",
   "execution_count": 54,
   "metadata": {},
   "outputs": [
    {
     "name": "stdout",
     "output_type": "stream",
     "text": [
      "DataFrame stacked and saved to: stacked_output.csv\n"
     ]
    }
   ],
   "source": [
    "stacked_df = pd.concat([data, x1], ignore_index=True)\n",
    "\n",
    "# Export the combined DataFrame to a CSV file\n",
    "output_csv = 'stacked_output.csv'  # Change this to your desired file path\n",
    "stacked_df.to_csv(output_csv, index=False)\n",
    "\n",
    "print(f\"DataFrame stacked and saved to: {output_csv}\")"
   ]
  },
  {
   "cell_type": "code",
   "execution_count": 55,
   "metadata": {},
   "outputs": [],
   "source": [
    "d1=pd.read_csv(\"stacked_output.csv\")"
   ]
  },
  {
   "cell_type": "code",
   "execution_count": 56,
   "metadata": {},
   "outputs": [
    {
     "data": {
      "text/html": [
       "<div>\n",
       "<style scoped>\n",
       "    .dataframe tbody tr th:only-of-type {\n",
       "        vertical-align: middle;\n",
       "    }\n",
       "\n",
       "    .dataframe tbody tr th {\n",
       "        vertical-align: top;\n",
       "    }\n",
       "\n",
       "    .dataframe thead th {\n",
       "        text-align: right;\n",
       "    }\n",
       "</style>\n",
       "<table border=\"1\" class=\"dataframe\">\n",
       "  <thead>\n",
       "    <tr style=\"text-align: right;\">\n",
       "      <th></th>\n",
       "      <th>xi</th>\n",
       "      <th>xj</th>\n",
       "      <th>LLM</th>\n",
       "    </tr>\n",
       "  </thead>\n",
       "  <tbody>\n",
       "    <tr>\n",
       "      <th>0</th>\n",
       "      <td>Yesterday I went</td>\n",
       "      <td>to the park to enjoy the beautiful weather.</td>\n",
       "      <td>GPT4o-mini</td>\n",
       "    </tr>\n",
       "    <tr>\n",
       "      <th>1</th>\n",
       "      <td>Today, I plan to</td>\n",
       "      <td>organize my workspace and catch up on some rea...</td>\n",
       "      <td>GPT4o-mini</td>\n",
       "    </tr>\n",
       "    <tr>\n",
       "      <th>2</th>\n",
       "      <td>The last time I saw her</td>\n",
       "      <td>she was walking down the street, smiling and w...</td>\n",
       "      <td>GPT4o-mini</td>\n",
       "    </tr>\n",
       "    <tr>\n",
       "      <th>3</th>\n",
       "      <td>I have never been so</td>\n",
       "      <td>excited about a new opportunity.</td>\n",
       "      <td>GPT4o-mini</td>\n",
       "    </tr>\n",
       "    <tr>\n",
       "      <th>4</th>\n",
       "      <td>When I was a child</td>\n",
       "      <td>I spent countless hours exploring the woods be...</td>\n",
       "      <td>GPT4o-mini</td>\n",
       "    </tr>\n",
       "  </tbody>\n",
       "</table>\n",
       "</div>"
      ],
      "text/plain": [
       "                        xi                                                 xj  \\\n",
       "0         Yesterday I went        to the park to enjoy the beautiful weather.   \n",
       "1         Today, I plan to  organize my workspace and catch up on some rea...   \n",
       "2  The last time I saw her  she was walking down the street, smiling and w...   \n",
       "3     I have never been so                   excited about a new opportunity.   \n",
       "4       When I was a child  I spent countless hours exploring the woods be...   \n",
       "\n",
       "          LLM  \n",
       "0  GPT4o-mini  \n",
       "1  GPT4o-mini  \n",
       "2  GPT4o-mini  \n",
       "3  GPT4o-mini  \n",
       "4  GPT4o-mini  "
      ]
     },
     "execution_count": 56,
     "metadata": {},
     "output_type": "execute_result"
    }
   ],
   "source": [
    "d1.head()"
   ]
  },
  {
   "cell_type": "code",
   "execution_count": 57,
   "metadata": {},
   "outputs": [
    {
     "data": {
      "text/plain": [
       "xi     1221\n",
       "xj     1201\n",
       "LLM       1\n",
       "dtype: int64"
      ]
     },
     "execution_count": 57,
     "metadata": {},
     "output_type": "execute_result"
    }
   ],
   "source": [
    "d1.nunique()"
   ]
  },
  {
   "cell_type": "code",
   "execution_count": 58,
   "metadata": {},
   "outputs": [
    {
     "data": {
      "text/html": [
       "<div>\n",
       "<style scoped>\n",
       "    .dataframe tbody tr th:only-of-type {\n",
       "        vertical-align: middle;\n",
       "    }\n",
       "\n",
       "    .dataframe tbody tr th {\n",
       "        vertical-align: top;\n",
       "    }\n",
       "\n",
       "    .dataframe thead th {\n",
       "        text-align: right;\n",
       "    }\n",
       "</style>\n",
       "<table border=\"1\" class=\"dataframe\">\n",
       "  <thead>\n",
       "    <tr style=\"text-align: right;\">\n",
       "      <th></th>\n",
       "      <th>xi</th>\n",
       "      <th>xj</th>\n",
       "      <th>LLM</th>\n",
       "    </tr>\n",
       "  </thead>\n",
       "  <tbody>\n",
       "    <tr>\n",
       "      <th>count</th>\n",
       "      <td>1221</td>\n",
       "      <td>1221</td>\n",
       "      <td>1221</td>\n",
       "    </tr>\n",
       "    <tr>\n",
       "      <th>unique</th>\n",
       "      <td>1221</td>\n",
       "      <td>1201</td>\n",
       "      <td>1</td>\n",
       "    </tr>\n",
       "    <tr>\n",
       "      <th>top</th>\n",
       "      <td>On the boat, we sailed into the sunset</td>\n",
       "      <td>curling up with a good book and a warm cup of ...</td>\n",
       "      <td>GPT4o-mini</td>\n",
       "    </tr>\n",
       "    <tr>\n",
       "      <th>freq</th>\n",
       "      <td>1</td>\n",
       "      <td>5</td>\n",
       "      <td>1221</td>\n",
       "    </tr>\n",
       "  </tbody>\n",
       "</table>\n",
       "</div>"
      ],
      "text/plain": [
       "                                            xi  \\\n",
       "count                                     1221   \n",
       "unique                                    1221   \n",
       "top     On the boat, we sailed into the sunset   \n",
       "freq                                         1   \n",
       "\n",
       "                                                       xj         LLM  \n",
       "count                                                1221        1221  \n",
       "unique                                               1201           1  \n",
       "top     curling up with a good book and a warm cup of ...  GPT4o-mini  \n",
       "freq                                                    5        1221  "
      ]
     },
     "execution_count": 58,
     "metadata": {},
     "output_type": "execute_result"
    }
   ],
   "source": [
    "d1.describe()"
   ]
  },
  {
   "cell_type": "code",
   "execution_count": null,
   "metadata": {},
   "outputs": [],
   "source": []
  }
 ],
 "metadata": {
  "kernelspec": {
   "display_name": "Python 3",
   "language": "python",
   "name": "python3"
  },
  "language_info": {
   "codemirror_mode": {
    "name": "ipython",
    "version": 3
   },
   "file_extension": ".py",
   "mimetype": "text/x-python",
   "name": "python",
   "nbconvert_exporter": "python",
   "pygments_lexer": "ipython3",
   "version": "3.12.5"
  }
 },
 "nbformat": 4,
 "nbformat_minor": 2
}
