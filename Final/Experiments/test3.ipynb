{
 "cells": [
  {
   "cell_type": "code",
   "execution_count": 1,
   "metadata": {},
   "outputs": [],
   "source": [
    "import numpy as np\n",
    "import pandas as pd"
   ]
  },
  {
   "cell_type": "code",
   "execution_count": 2,
   "metadata": {},
   "outputs": [],
   "source": [
    "data = pd.read_csv(\"test_3__final.csv\")"
   ]
  },
  {
   "cell_type": "code",
   "execution_count": 3,
   "metadata": {},
   "outputs": [
    {
     "name": "stdout",
     "output_type": "stream",
     "text": [
      "<class 'pandas.core.frame.DataFrame'>\n",
      "RangeIndex: 300 entries, 0 to 299\n",
      "Data columns (total 7 columns):\n",
      " #   Column                         Non-Null Count  Dtype \n",
      "---  ------                         --------------  ----- \n",
      " 0   Discipline                     300 non-null    object\n",
      " 1   Question                       300 non-null    object\n",
      " 2   Reason you think it is faulty  300 non-null    object\n",
      " 3   Which top LLM you tried        300 non-null    object\n",
      " 4   Response by a top LLM          300 non-null    object\n",
      " 5   T_3                            300 non-null    object\n",
      " 6   Result                         300 non-null    int64 \n",
      "dtypes: int64(1), object(6)\n",
      "memory usage: 16.5+ KB\n"
     ]
    }
   ],
   "source": [
    "data.info()"
   ]
  },
  {
   "cell_type": "code",
   "execution_count": 4,
   "metadata": {},
   "outputs": [
    {
     "data": {
      "text/html": [
       "<div>\n",
       "<style scoped>\n",
       "    .dataframe tbody tr th:only-of-type {\n",
       "        vertical-align: middle;\n",
       "    }\n",
       "\n",
       "    .dataframe tbody tr th {\n",
       "        vertical-align: top;\n",
       "    }\n",
       "\n",
       "    .dataframe thead th {\n",
       "        text-align: right;\n",
       "    }\n",
       "</style>\n",
       "<table border=\"1\" class=\"dataframe\">\n",
       "  <thead>\n",
       "    <tr style=\"text-align: right;\">\n",
       "      <th></th>\n",
       "      <th>Discipline</th>\n",
       "      <th>Question</th>\n",
       "      <th>Reason you think it is faulty</th>\n",
       "      <th>Which top LLM you tried</th>\n",
       "      <th>Response by a top LLM</th>\n",
       "      <th>T_3</th>\n",
       "      <th>Result</th>\n",
       "    </tr>\n",
       "  </thead>\n",
       "  <tbody>\n",
       "    <tr>\n",
       "      <th>0</th>\n",
       "      <td>Biology</td>\n",
       "      <td>Which of the following statements about cell m...</td>\n",
       "      <td>multiple plausible options and doesnt contain ...</td>\n",
       "      <td>GPT4o-mini</td>\n",
       "      <td>All the provided statements about cell membran...</td>\n",
       "      <td>The MOST INCORRECT statement about cell membra...</td>\n",
       "      <td>1</td>\n",
       "    </tr>\n",
       "    <tr>\n",
       "      <th>1</th>\n",
       "      <td>Biology</td>\n",
       "      <td>Which mechanism is NOT a legitimate way geneti...</td>\n",
       "      <td>multiple plausible options and doesnt contain ...</td>\n",
       "      <td>GPT4o-mini</td>\n",
       "      <td>D) Gene mutations caused by environmental radi...</td>\n",
       "      <td>The mechanism that is NOT a legitimate way gen...</td>\n",
       "      <td>1</td>\n",
       "    </tr>\n",
       "    <tr>\n",
       "      <th>2</th>\n",
       "      <td>Biology</td>\n",
       "      <td>Which statement about natural selection is sci...</td>\n",
       "      <td>multiple plausible options and doesnt contain ...</td>\n",
       "      <td>GPT4o-mini</td>\n",
       "      <td>All the statements provided are accurate descr...</td>\n",
       "      <td>The statement that is scientifically INACCURAT...</td>\n",
       "      <td>1</td>\n",
       "    </tr>\n",
       "    <tr>\n",
       "      <th>3</th>\n",
       "      <td>Biology</td>\n",
       "      <td>Which claim about microorganisms is MOST MISLE...</td>\n",
       "      <td>multiple plausible options and doesnt contain ...</td>\n",
       "      <td>GPT4o-mini</td>\n",
       "      <td>All the options provided are true statements a...</td>\n",
       "      <td>All the claims presented about microorganisms ...</td>\n",
       "      <td>0</td>\n",
       "    </tr>\n",
       "    <tr>\n",
       "      <th>4</th>\n",
       "      <td>Biology</td>\n",
       "      <td>Which function is NOT associated with the huma...</td>\n",
       "      <td>multiple plausible options and doesnt contain ...</td>\n",
       "      <td>GPT4o-mini</td>\n",
       "      <td>D) Regulating hormonal responses</td>\n",
       "      <td>The function that is NOT associated with the h...</td>\n",
       "      <td>0</td>\n",
       "    </tr>\n",
       "  </tbody>\n",
       "</table>\n",
       "</div>"
      ],
      "text/plain": [
       "  Discipline                                           Question  \\\n",
       "0    Biology  Which of the following statements about cell m...   \n",
       "1    Biology  Which mechanism is NOT a legitimate way geneti...   \n",
       "2    Biology  Which statement about natural selection is sci...   \n",
       "3    Biology  Which claim about microorganisms is MOST MISLE...   \n",
       "4    Biology  Which function is NOT associated with the huma...   \n",
       "\n",
       "                       Reason you think it is faulty Which top LLM you tried  \\\n",
       "0  multiple plausible options and doesnt contain ...              GPT4o-mini   \n",
       "1  multiple plausible options and doesnt contain ...              GPT4o-mini   \n",
       "2  multiple plausible options and doesnt contain ...              GPT4o-mini   \n",
       "3  multiple plausible options and doesnt contain ...              GPT4o-mini   \n",
       "4  multiple plausible options and doesnt contain ...              GPT4o-mini   \n",
       "\n",
       "                               Response by a top LLM  \\\n",
       "0  All the provided statements about cell membran...   \n",
       "1  D) Gene mutations caused by environmental radi...   \n",
       "2  All the statements provided are accurate descr...   \n",
       "3  All the options provided are true statements a...   \n",
       "4                   D) Regulating hormonal responses   \n",
       "\n",
       "                                                 T_3  Result  \n",
       "0  The MOST INCORRECT statement about cell membra...       1  \n",
       "1  The mechanism that is NOT a legitimate way gen...       1  \n",
       "2  The statement that is scientifically INACCURAT...       1  \n",
       "3  All the claims presented about microorganisms ...       0  \n",
       "4  The function that is NOT associated with the h...       0  "
      ]
     },
     "execution_count": 4,
     "metadata": {},
     "output_type": "execute_result"
    }
   ],
   "source": [
    "data.head()"
   ]
  },
  {
   "cell_type": "code",
   "execution_count": 5,
   "metadata": {},
   "outputs": [
    {
     "data": {
      "text/plain": [
       "Discipline                         6\n",
       "Question                         300\n",
       "Reason you think it is faulty      2\n",
       "Which top LLM you tried            1\n",
       "Response by a top LLM            300\n",
       "T_3                              147\n",
       "Result                             2\n",
       "dtype: int64"
      ]
     },
     "execution_count": 5,
     "metadata": {},
     "output_type": "execute_result"
    }
   ],
   "source": [
    "data.nunique()"
   ]
  },
  {
   "cell_type": "code",
   "execution_count": 6,
   "metadata": {},
   "outputs": [],
   "source": [
    "import matplotlib.pyplot as plt\n"
   ]
  },
  {
   "cell_type": "code",
   "execution_count": 7,
   "metadata": {},
   "outputs": [
    {
     "data": {
      "image/png": "[encoded data removed]",
      "text/plain": [
       "<Figure size 1200x600 with 1 Axes>"
      ]
     },
     "metadata": {},
     "output_type": "display_data"
    }
   ],
   "source": [
    "# Group data by Discipline and Result, then count occurrences\n",
    "result_counts = data.groupby(['Discipline', 'Result']).size().unstack(fill_value=0)\n",
    "\n",
    "# Prepare data for side-by-side bar plot\n",
    "x = np.arange(len(result_counts))  # X-axis positions for disciplines\n",
    "bar_width = 0.35  # Width of each bar\n",
    "\n",
    "# Plot the bars\n",
    "fig, ax = plt.subplots(figsize=(12, 6))\n",
    "bars0 = ax.bar(x - bar_width/2, result_counts[0], bar_width, label='Result = 0')\n",
    "bars1 = ax.bar(x + bar_width/2, result_counts[1], bar_width, label='Result = 1')\n",
    "\n",
    "# Add labels, title, and legend\n",
    "ax.set_xlabel('Discipline')\n",
    "ax.set_ylabel('Count')\n",
    "ax.set_title('Count of Results (0 and 1) by Discipline')\n",
    "ax.set_xticks(x)\n",
    "ax.set_xticklabels(result_counts.index, rotation=45)\n",
    "ax.legend()\n",
    "\n",
    "# Add value annotations on top of bars\n",
    "for bars in [bars0, bars1]:\n",
    "    for bar in bars:\n",
    "        height = bar.get_height()\n",
    "        ax.annotate(f'{height}', xy=(bar.get_x() + bar.get_width() / 2, height),\n",
    "                    xytext=(0, 3), textcoords=\"offset points\", ha='center', va='bottom')\n",
    "\n",
    "# Show the plot\n",
    "plt.tight_layout()\n",
    "plt.show()"
   ]
  },
  {
   "cell_type": "code",
   "execution_count": 8,
   "metadata": {},
   "outputs": [],
   "source": [
    "result_counts = data.groupby(['Discipline', 'Result']).size().unstack(fill_value=0)\n"
   ]
  },
  {
   "cell_type": "code",
   "execution_count": 9,
   "metadata": {},
   "outputs": [
    {
     "name": "stdout",
     "output_type": "stream",
     "text": [
      "Result                            0   1\n",
      "Discipline                             \n",
      "Astronomy and logical reasoning  34  16\n",
      "Biology                           7  43\n",
      "chemistry                        11  39\n",
      "geology                          26  24\n",
      "math                             11  39\n",
      "physics                           9  41\n"
     ]
    }
   ],
   "source": [
    "print(result_counts)"
   ]
  }
 ],
 "metadata": {
  "kernelspec": {
   "display_name": "Python 3",
   "language": "python",
   "name": "python3"
  },
  "language_info": {
   "codemirror_mode": {
    "name": "ipython",
    "version": 3
   },
   "file_extension": ".py",
   "mimetype": "text/x-python",
   "name": "python",
   "nbconvert_exporter": "python",
   "pygments_lexer": "ipython3",
   "version": "3.13.0"
  }
 },
 "nbformat": 4,
 "nbformat_minor": 2
}
