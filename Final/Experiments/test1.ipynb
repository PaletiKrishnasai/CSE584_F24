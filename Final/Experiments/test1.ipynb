{
 "cells": [
  {
   "cell_type": "code",
   "execution_count": 7,
   "metadata": {},
   "outputs": [],
   "source": [
    "import numpy as np\n",
    "import pandas as pd"
   ]
  },
  {
   "cell_type": "code",
   "execution_count": 8,
   "metadata": {},
   "outputs": [],
   "source": [
    "data = pd.read_csv(\"stacked_dataset.csv\")"
   ]
  },
  {
   "cell_type": "code",
   "execution_count": 9,
   "metadata": {},
   "outputs": [
    {
     "name": "stdout",
     "output_type": "stream",
     "text": [
      "<class 'pandas.core.frame.DataFrame'>\n",
      "RangeIndex: 300 entries, 0 to 299\n",
      "Data columns (total 5 columns):\n",
      " #   Column                         Non-Null Count  Dtype \n",
      "---  ------                         --------------  ----- \n",
      " 0   Discipline                     300 non-null    object\n",
      " 1   Question                       300 non-null    object\n",
      " 2   Reason you think it is faulty  300 non-null    object\n",
      " 3   Which top LLM you tried        300 non-null    object\n",
      " 4   Response by a top LLM          300 non-null    object\n",
      "dtypes: object(5)\n",
      "memory usage: 11.8+ KB\n"
     ]
    }
   ],
   "source": [
    "data.info()"
   ]
  },
  {
   "cell_type": "code",
   "execution_count": 10,
   "metadata": {},
   "outputs": [
    {
     "data": {
      "text/html": [
       "<div>\n",
       "<style scoped>\n",
       "    .dataframe tbody tr th:only-of-type {\n",
       "        vertical-align: middle;\n",
       "    }\n",
       "\n",
       "    .dataframe tbody tr th {\n",
       "        vertical-align: top;\n",
       "    }\n",
       "\n",
       "    .dataframe thead th {\n",
       "        text-align: right;\n",
       "    }\n",
       "</style>\n",
       "<table border=\"1\" class=\"dataframe\">\n",
       "  <thead>\n",
       "    <tr style=\"text-align: right;\">\n",
       "      <th></th>\n",
       "      <th>Discipline</th>\n",
       "      <th>Question</th>\n",
       "      <th>Reason you think it is faulty</th>\n",
       "      <th>Which top LLM you tried</th>\n",
       "      <th>Response by a top LLM</th>\n",
       "    </tr>\n",
       "  </thead>\n",
       "  <tbody>\n",
       "    <tr>\n",
       "      <th>0</th>\n",
       "      <td>Biology</td>\n",
       "      <td>Which of the following statements about cell m...</td>\n",
       "      <td>multiple plausible options and doesnt contain ...</td>\n",
       "      <td>GPT4o-mini</td>\n",
       "      <td>All the provided statements about cell membran...</td>\n",
       "    </tr>\n",
       "    <tr>\n",
       "      <th>1</th>\n",
       "      <td>Biology</td>\n",
       "      <td>Which mechanism is NOT a legitimate way geneti...</td>\n",
       "      <td>multiple plausible options and doesnt contain ...</td>\n",
       "      <td>GPT4o-mini</td>\n",
       "      <td>D) Gene mutations caused by environmental radi...</td>\n",
       "    </tr>\n",
       "    <tr>\n",
       "      <th>2</th>\n",
       "      <td>Biology</td>\n",
       "      <td>Which statement about natural selection is sci...</td>\n",
       "      <td>multiple plausible options and doesnt contain ...</td>\n",
       "      <td>GPT4o-mini</td>\n",
       "      <td>All the statements provided are accurate descr...</td>\n",
       "    </tr>\n",
       "    <tr>\n",
       "      <th>3</th>\n",
       "      <td>Biology</td>\n",
       "      <td>Which claim about microorganisms is MOST MISLE...</td>\n",
       "      <td>multiple plausible options and doesnt contain ...</td>\n",
       "      <td>GPT4o-mini</td>\n",
       "      <td>All the options provided are true statements a...</td>\n",
       "    </tr>\n",
       "    <tr>\n",
       "      <th>4</th>\n",
       "      <td>Biology</td>\n",
       "      <td>Which function is NOT associated with the huma...</td>\n",
       "      <td>multiple plausible options and doesnt contain ...</td>\n",
       "      <td>GPT4o-mini</td>\n",
       "      <td>D) Regulating hormonal responses</td>\n",
       "    </tr>\n",
       "  </tbody>\n",
       "</table>\n",
       "</div>"
      ],
      "text/plain": [
       "  Discipline                                           Question  \\\n",
       "0    Biology  Which of the following statements about cell m...   \n",
       "1    Biology  Which mechanism is NOT a legitimate way geneti...   \n",
       "2    Biology  Which statement about natural selection is sci...   \n",
       "3    Biology  Which claim about microorganisms is MOST MISLE...   \n",
       "4    Biology  Which function is NOT associated with the huma...   \n",
       "\n",
       "                       Reason you think it is faulty Which top LLM you tried  \\\n",
       "0  multiple plausible options and doesnt contain ...              GPT4o-mini   \n",
       "1  multiple plausible options and doesnt contain ...              GPT4o-mini   \n",
       "2  multiple plausible options and doesnt contain ...              GPT4o-mini   \n",
       "3  multiple plausible options and doesnt contain ...              GPT4o-mini   \n",
       "4  multiple plausible options and doesnt contain ...              GPT4o-mini   \n",
       "\n",
       "                               Response by a top LLM  \n",
       "0  All the provided statements about cell membran...  \n",
       "1  D) Gene mutations caused by environmental radi...  \n",
       "2  All the statements provided are accurate descr...  \n",
       "3  All the options provided are true statements a...  \n",
       "4                   D) Regulating hormonal responses  "
      ]
     },
     "execution_count": 10,
     "metadata": {},
     "output_type": "execute_result"
    }
   ],
   "source": [
    "data.head()"
   ]
  }
 ],
 "metadata": {
  "kernelspec": {
   "display_name": "Python 3",
   "language": "python",
   "name": "python3"
  },
  "language_info": {
   "codemirror_mode": {
    "name": "ipython",
    "version": 3
   },
   "file_extension": ".py",
   "mimetype": "text/x-python",
   "name": "python",
   "nbconvert_exporter": "python",
   "pygments_lexer": "ipython3",
   "version": "3.13.0"
  }
 },
 "nbformat": 4,
 "nbformat_minor": 2
}
