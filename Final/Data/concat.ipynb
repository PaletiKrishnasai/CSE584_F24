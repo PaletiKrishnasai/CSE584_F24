{
 "cells": [
  {
   "cell_type": "code",
   "execution_count": 1,
   "metadata": {},
   "outputs": [
    {
     "name": "stdout",
     "output_type": "stream",
     "text": [
      "Files stacked successfully!\n"
     ]
    }
   ],
   "source": [
    "import pandas as pd\n",
    "\n",
    "# Replace with your CSV file paths\n",
    "csv_files = [\"bio_test.csv\", \"chem_test.csv\", \"phy_test.csv\", \"math_test.csv\", \"geo_test.csv\", \"astro_test.csv\"]\n",
    "\n",
    "# Load all CSV files into a list of DataFrames\n",
    "dataframes = [pd.read_csv(file) for file in csv_files]\n",
    "\n",
    "# Stack them vertically based on column names\n",
    "stacked_df = pd.concat(dataframes, ignore_index=True)\n",
    "\n",
    "# Save the stacked DataFrame to a new CSV file (optional)\n",
    "stacked_df.to_csv(\"stacked_dataset.csv\", index=False)\n",
    "\n",
    "print(\"Files stacked successfully!\")\n"
   ]
  },
  {
   "cell_type": "code",
   "execution_count": null,
   "metadata": {},
   "outputs": [],
   "source": []
  },
  {
   "cell_type": "code",
   "execution_count": null,
   "metadata": {},
   "outputs": [],
   "source": []
  }
 ],
 "metadata": {
  "kernelspec": {
   "display_name": "Python 3",
   "language": "python",
   "name": "python3"
  },
  "language_info": {
   "codemirror_mode": {
    "name": "ipython",
    "version": 3
   },
   "file_extension": ".py",
   "mimetype": "text/x-python",
   "name": "python",
   "nbconvert_exporter": "python",
   "pygments_lexer": "ipython3",
   "version": "3.13.0"
  }
 },
 "nbformat": 4,
 "nbformat_minor": 2
}
